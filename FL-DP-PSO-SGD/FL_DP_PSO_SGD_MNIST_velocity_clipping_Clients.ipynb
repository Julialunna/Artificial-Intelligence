{
  "nbformat": 4,
  "nbformat_minor": 0,
  "metadata": {
    "colab": {
      "provenance": [],
      "gpuType": "T4",
      "include_colab_link": true
    },
    "kernelspec": {
      "name": "python3",
      "display_name": "Python 3"
    },
    "language_info": {
      "name": "python"
    },
    "accelerator": "GPU"
  },
  "cells": [
    {
      "cell_type": "markdown",
      "metadata": {
        "id": "view-in-github",
        "colab_type": "text"
      },
      "source": [
        "<a href=\"https://colab.research.google.com/github/Julialunna/Artificial-Intelligence/blob/main/FL-DP-PSO-SGD/FL_DP_PSO_SGD_MNIST_velocity_clipping_Clients.ipynb\" target=\"_parent\"><img src=\"https://colab.research.google.com/assets/colab-badge.svg\" alt=\"Open In Colab\"/></a>"
      ]
    },
    {
      "cell_type": "markdown",
      "source": [
        "Pega o erro de cada um e compara. A partícula com menor erro pede o gbest."
      ],
      "metadata": {
        "id": "_CPCXVr31FDI"
      }
    },
    {
      "cell_type": "code",
      "source": [
        "import torch\n",
        "import torch.nn as nn\n",
        "import torch.optim as optim\n",
        "from torch.utils.data import DataLoader, random_split, Subset, TensorDataset\n",
        "from torchvision import datasets, transforms\n",
        "import torch.nn.functional as F\n",
        "import copy\n",
        "import random\n",
        "import csv\n",
        "import torchvision\n",
        "import torchvision.models as models\n",
        "from sklearn import datasets\n",
        "from sklearn.model_selection import train_test_split\n",
        "from sklearn.preprocessing import StandardScaler\n",
        "import math"
      ],
      "metadata": {
        "id": "aFrNmR3h_7j6"
      },
      "execution_count": 1,
      "outputs": []
    },
    {
      "cell_type": "code",
      "source": [
        "class MLP(nn.Module):\n",
        "\n",
        "    def __init__(self, device, input_size=28*28, hidden_size=128, num_classes=10):\n",
        "        super(MLP, self).__init__()\n",
        "        self.device = device\n",
        "        self.fc1 = nn.Linear(input_size, hidden_size)\n",
        "        self.relu = nn.ReLU()\n",
        "        self.fc2 = nn.Linear(hidden_size, hidden_size)\n",
        "        self.relu = nn.ReLU()\n",
        "        self.fc3 = nn.Linear(hidden_size, num_classes)\n",
        "        self.to(device)\n",
        "\n",
        "    def forward(self, x):\n",
        "        x = x.view(x.size(0), -1)  # Achatar o tensor de entrada\n",
        "        y = self.fc1(x)\n",
        "        y = self.relu(y)\n",
        "        y = self.fc2(y)\n",
        "        y = self.relu(y)\n",
        "        y = self.fc3(y)\n",
        "\n",
        "        return y"
      ],
      "metadata": {
        "id": "DK3gmoasMO_-"
      },
      "execution_count": 2,
      "outputs": []
    },
    {
      "cell_type": "code",
      "source": [
        "# Definições dos hiperparâmetros\n",
        "NUM_CLIENTES = 5\n",
        "NUM_PARTICULAS = 20\n",
        "NUM_RODADAS = 10\n",
        "INERCIA, C1, C2 = 0.9, 0.8, 0.9\n",
        "EPSILON = 6/math.sqrt(10)\n",
        "DELTA = 1e-5\n",
        "SENSITIVITY = 3\n",
        "MAX_VELOCITY = 1.5\n",
        "DEVICE = torch.device(\"cuda\" if torch.cuda.is_available() else \"cpu\")\n",
        "print(f'training on {DEVICE}')\n",
        "\n",
        "# Criando o modelo global\n",
        "modelo_global = MLP(DEVICE, hidden_size=256)\n",
        "criterio = nn.CrossEntropyLoss()"
      ],
      "metadata": {
        "colab": {
          "base_uri": "https://localhost:8080/"
        },
        "id": "kOsKzlgWLN5r",
        "outputId": "e8c8e88a-cb21-4903-e02f-5441099b32e6"
      },
      "execution_count": 3,
      "outputs": [
        {
          "output_type": "stream",
          "name": "stdout",
          "text": [
            "training on cuda\n"
          ]
        }
      ]
    },
    {
      "cell_type": "code",
      "source": [
        "#Seeds para reprodutibilidade\n",
        "random.seed(123)\n",
        "torch.manual_seed(123)\n",
        "torch.cuda.manual_seed(123)\n",
        "\n",
        "\n",
        "# Função para criar um subconjunto aleatório de um dataset\n",
        "def create_subset(dataset, subset_size):\n",
        "    indices = list(range(len(dataset)))\n",
        "    subset_indices = random.sample(indices, subset_size)\n",
        "    return Subset(dataset, subset_indices)\n",
        "\n",
        "class Particula:\n",
        "    def __init__(self, particle_id, modelo_cliente):\n",
        "        self.particle_id = particle_id\n",
        "        self.pesos = copy.deepcopy(modelo_cliente.state_dict())  # Conjunto de pesos da partícula\n",
        "        self.melhor_pesos = copy.deepcopy(self.pesos)  # pbest (melhor posição da partícula)\n",
        "        self.melhor_erro = float('inf')  # Melhor erro alcançado\n",
        "        self.velocidade = {name: torch.zeros_like(param) for name, param in self.pesos.items()}  # Velocidade do PSO\n",
        "        self.device = modelo_cliente.device  # Dispositivo do modelo\n",
        "\n",
        "    def atualizar_pso(self, global_best_pesos, INERCIA, C1, C2, EPSILON, DELTA, SENSITIVITY, MAX_VELOCITY):\n",
        "        \"\"\"Atualiza os pesos da partícula usando a equação do PSO.\"\"\"\n",
        "        for name in self.pesos:\n",
        "            local_rand = random.random()\n",
        "            global_rand = random.random()\n",
        "            self.velocidade[name] = (\n",
        "                INERCIA * self.velocidade[name] +\n",
        "                C1 * local_rand * (self.melhor_pesos[name] - self.pesos[name]) +\n",
        "                C2 * global_rand * (global_best_pesos[name] - self.pesos[name])\n",
        "            )\n",
        "            self.velocidade[name] = torch.clamp(self.velocidade[name], -MAX_VELOCITY, MAX_VELOCITY)\n",
        "            sigma = SENSITIVITY * torch.sqrt((2.0 * torch.log(torch.tensor(1.0 / DELTA))).clone().detach()) / EPSILON\n",
        "\n",
        "            # Gerar ruído diretamente com a distribuição normal do PyTorch (muito mais eficiente!)\n",
        "            noise = torch.normal(mean=0, std=sigma, size=self.velocidade[name].shape, device=self.device)\n",
        "            self.velocidade[name] += noise\n",
        "            #clipping velocity\n",
        "            self.pesos[name] += self.velocidade[name]\n",
        "\n",
        "    def avaliar_perda(self, modelo_cliente, criterio, dados):\n",
        "        \"\"\"Calcula a perda da partícula no modelo do cliente.\"\"\"\n",
        "        modelo_cliente.load_state_dict(self.pesos)  # Aplica os pesos da partícula no modelo do cliente\n",
        "        modelo_cliente.eval()\n",
        "        total_loss = 0\n",
        "        loader = DataLoader(dados, batch_size=64, shuffle=False)\n",
        "\n",
        "        with torch.no_grad():\n",
        "            for inputs, labels in loader:\n",
        "                inputs, labels = inputs.to(modelo_cliente.device), labels.to(modelo_cliente.device)\n",
        "                outputs = modelo_cliente(inputs)\n",
        "                loss = criterio(outputs, labels)\n",
        "                total_loss += loss.item()\n",
        "\n",
        "        return total_loss / len(loader)\n",
        "\n",
        "\n",
        "class Cliente:\n",
        "    def __init__(self, cliente_id, modelo_global, dados, num_particulas=5):\n",
        "        self.cliente_id = cliente_id\n",
        "        self.modelo = copy.deepcopy(modelo_global)  # Cada cliente tem seu próprio modelo\n",
        "        self.dados = dados\n",
        "        self.num_particulas = num_particulas\n",
        "        self.particulas = []\n",
        "        self.melhor_particula = None\n",
        "        self.inicializar_particulas(num_particulas)\n",
        "\n",
        "    def inicializar_particulas(self, num_particulas):\n",
        "        \"\"\"Cria um conjunto de partículas associadas ao cliente.\"\"\"\n",
        "        self.particulas = [Particula(i, self.modelo) for i in range(num_particulas)]\n",
        "\n",
        "    def treinar_com_pso(self, INERCIA, C1, C2, global_best_pesos, criterio, EPSILON, DELTA, SENSITIVITY, MAX_VELOCITY):\n",
        "        \"\"\"Treina as partículas usando PSO e atualiza a melhor partícula local.\"\"\"\n",
        "\n",
        "        for particula in self.particulas:\n",
        "\n",
        "            particula.atualizar_pso(global_best_pesos, INERCIA, C1, C2, EPSILON, DELTA, SENSITIVITY, MAX_VELOCITY)\n",
        "            erro = particula.avaliar_perda(self.modelo, criterio, self.dados)\n",
        "            if erro < particula.melhor_erro:\n",
        "                particula.melhor_erro = erro\n",
        "                particula.melhor_pesos = copy.deepcopy(particula.pesos)\n",
        "\n",
        "        self.selecionar_melhor_particula()\n",
        "\n",
        "    def refinar_com_adam(self, criterio):\n",
        "        \"\"\"Refina os pesos da melhor partícula usando Adam.\"\"\"\n",
        "        self.modelo.load_state_dict(self.melhor_particula.melhor_pesos)\n",
        "        otimizador = optim.Adam(self.modelo.parameters(), lr=0.01, weight_decay=1e-5)\n",
        "        train_loader = DataLoader(self.dados, batch_size=32, shuffle=True)\n",
        "\n",
        "        self.modelo.train()\n",
        "        for _ in range(5):  # 10 épocas de refinamento com Adam\n",
        "            for inputs, labels in train_loader:\n",
        "                inputs, labels = inputs.to(self.modelo.device), labels.to(self.modelo.device)\n",
        "                otimizador.zero_grad()\n",
        "                outputs = self.modelo(inputs)\n",
        "                loss = criterio(outputs, labels)\n",
        "                loss.backward()\n",
        "                otimizador.step()\n",
        "\n",
        "        # Atualiza os pesos da melhor partícula com os pesos refinados pelo Adam\n",
        "        self.melhor_particula.pesos = copy.deepcopy(self.modelo.state_dict())\n",
        "\n",
        "    def selecionar_melhor_particula(self):\n",
        "        \"\"\"Seleciona a melhor partícula do cliente.\"\"\"\n",
        "        self.melhor_particula = min(self.particulas, key=lambda p: p.melhor_erro)\n",
        "\n",
        "\n",
        "def treinar_federado(modelo_global, clientes, criterio, num_rodadas, INERCIA, C1, C2, testloader, EPSILON, DELTA, SENSITIVITY, MAX_VELOCITY):\n",
        "    \"\"\"Treina os clientes localmente e sincroniza com o servidor central, validando a acurácia.\"\"\"\n",
        "\n",
        "    melhor_peso_global = copy.deepcopy(modelo_global.state_dict())  # Inicializa com o modelo global\n",
        "    melhor_erro_global = float('inf')\n",
        "\n",
        "    for rodada in range(num_rodadas):\n",
        "        resultados_rodada = []\n",
        "\n",
        "        for cliente in clientes:\n",
        "            cliente.treinar_com_pso(INERCIA, C1, C2, melhor_peso_global, criterio, EPSILON, DELTA, SENSITIVITY, MAX_VELOCITY)  # Treino com PSO\n",
        "            cliente.refinar_com_adam(criterio)  # Refinamento com Adam\n",
        "            erro_cliente = cliente.melhor_particula.melhor_erro  # Obtém o melhor erro do cliente\n",
        "            resultados_rodada.append((cliente.cliente_id, erro_cliente))\n",
        "\n",
        "        resultados_sorted = sorted(resultados_rodada, key=lambda x: x[1])\n",
        "        top_3_results = resultados_sorted[:3]\n",
        "\n",
        "        melhor_cliente = random.choice(top_3_results)\n",
        "        melhor_cliente_id = melhor_cliente[0]\n",
        "        melhor_erro_cliente = melhor_cliente[1]\n",
        "\n",
        "        melhor_peso_global = copy.deepcopy(clientes[melhor_cliente_id].melhor_particula.pesos)\n",
        "        melhor_erro_global = melhor_erro_cliente\n",
        "\n",
        "        modelo_global.load_state_dict(melhor_peso_global)\n",
        "\n",
        "        test_loss, test_accuracy = avaliar_modelo(modelo_global, criterio, testloader)\n",
        "\n",
        "\n",
        "        print(f\"Rodada {rodada+1}/{num_rodadas}: Cliente {melhor_cliente_id} enviou os pesos.\")\n",
        "        print(f\"Erro Global Atualizado: {melhor_erro_global:.4f}\")\n",
        "        print(f\"Teste -> Perda: {test_loss:.4f}, Acurácia: {test_accuracy:.2f}%\\n\")\n",
        "\n",
        "    print(\"Treinamento Federado Finalizado!\")\n",
        "\n",
        "def avaliar_modelo(modelo, criterio, testloader):\n",
        "    \"\"\"Avalia o modelo global no conjunto de teste.\"\"\"\n",
        "    modelo.eval()  # Modo de avaliação\n",
        "\n",
        "    total_loss = 0\n",
        "    correct = 0\n",
        "    total_samples = 0\n",
        "\n",
        "    with torch.no_grad():\n",
        "        for inputs, labels in testloader:\n",
        "            inputs, labels = inputs.to(DEVICE), labels.to(DEVICE)\n",
        "            outputs = modelo(inputs)\n",
        "            loss = criterio(outputs, labels)\n",
        "\n",
        "            total_loss += loss.item()\n",
        "            correct += (outputs.argmax(1) == labels).sum().item()\n",
        "            total_samples += labels.size(0)\n",
        "\n",
        "    test_loss = total_loss / len(testloader)\n",
        "    test_accuracy = (correct / total_samples) * 100\n",
        "\n",
        "    return test_loss, test_accuracy\n",
        "\n",
        "\n",
        "mnist_train = torchvision.datasets.MNIST(root='./data', train=True, download=True)\n",
        "X_train = mnist_train.data.view(-1, 28*28).numpy()  # Flatten (Transforma 28x28 em 784)\n",
        "y_train = mnist_train.targets.numpy()  # Labels\n",
        "\n",
        "mnist_test = torchvision.datasets.MNIST(root='./data', train=False, download=True)\n",
        "X_test = mnist_test.data.view(-1, 28*28).numpy()  # Flatten (Transforma 28x28 em 784)\n",
        "y_test = mnist_test.targets.numpy()  # Labels\n",
        "\n",
        "# Dividir treino e teste manualmente como no Iris\n",
        "\n",
        "# Normalizar como no Iris\n",
        "scaler = StandardScaler()\n",
        "X_train = scaler.fit_transform(X_train)\n",
        "X_test = scaler.transform(X_test)\n",
        "\n",
        "# Converter para tensores\n",
        "X_train = torch.tensor(X_train, dtype=torch.float32)\n",
        "y_train = torch.tensor(y_train, dtype=torch.long)\n",
        "X_test = torch.tensor(X_test, dtype=torch.float32)\n",
        "y_test = torch.tensor(y_test, dtype=torch.long)\n",
        "\n",
        "# Criar datasets como no Iris\n",
        "trainset = TensorDataset(X_train, y_train)\n",
        "testset = TensorDataset(X_test, y_test)\n",
        "SUBSET_SIZE = 12000\n",
        "\n",
        "trainloaders = [create_subset(trainset, SUBSET_SIZE) for _ in range(NUM_CLIENTES)]\n",
        "\n",
        "testloader = DataLoader(testset, batch_size=64, shuffle=False)\n",
        "\n",
        "# Criando os clientes\n",
        "clientes = [Cliente(i, modelo_global, trainloaders[i], NUM_PARTICULAS) for i in range(NUM_CLIENTES)]\n",
        "\n",
        "# Executando o treinamento federado\n",
        "treinar_federado(modelo_global, clientes, criterio, NUM_RODADAS, INERCIA, C1, C2, testloader, EPSILON, DELTA, SENSITIVITY, MAX_VELOCITY)"
      ],
      "metadata": {
        "colab": {
          "base_uri": "https://localhost:8080/"
        },
        "id": "nkL-eId7AF03",
        "outputId": "f40fa9e2-825b-449f-c453-bfb8fb24b96e"
      },
      "execution_count": 4,
      "outputs": [
        {
          "output_type": "stream",
          "name": "stdout",
          "text": [
            "Downloading http://yann.lecun.com/exdb/mnist/train-images-idx3-ubyte.gz\n",
            "Failed to download (trying next):\n",
            "HTTP Error 404: Not Found\n",
            "\n",
            "Downloading https://ossci-datasets.s3.amazonaws.com/mnist/train-images-idx3-ubyte.gz\n",
            "Downloading https://ossci-datasets.s3.amazonaws.com/mnist/train-images-idx3-ubyte.gz to ./data/MNIST/raw/train-images-idx3-ubyte.gz\n"
          ]
        },
        {
          "output_type": "stream",
          "name": "stderr",
          "text": [
            "100%|██████████| 9.91M/9.91M [00:00<00:00, 17.9MB/s]\n"
          ]
        },
        {
          "output_type": "stream",
          "name": "stdout",
          "text": [
            "Extracting ./data/MNIST/raw/train-images-idx3-ubyte.gz to ./data/MNIST/raw\n",
            "\n",
            "Downloading http://yann.lecun.com/exdb/mnist/train-labels-idx1-ubyte.gz\n",
            "Failed to download (trying next):\n",
            "HTTP Error 404: Not Found\n",
            "\n",
            "Downloading https://ossci-datasets.s3.amazonaws.com/mnist/train-labels-idx1-ubyte.gz\n",
            "Downloading https://ossci-datasets.s3.amazonaws.com/mnist/train-labels-idx1-ubyte.gz to ./data/MNIST/raw/train-labels-idx1-ubyte.gz\n"
          ]
        },
        {
          "output_type": "stream",
          "name": "stderr",
          "text": [
            "100%|██████████| 28.9k/28.9k [00:00<00:00, 488kB/s]\n"
          ]
        },
        {
          "output_type": "stream",
          "name": "stdout",
          "text": [
            "Extracting ./data/MNIST/raw/train-labels-idx1-ubyte.gz to ./data/MNIST/raw\n",
            "\n",
            "Downloading http://yann.lecun.com/exdb/mnist/t10k-images-idx3-ubyte.gz\n",
            "Failed to download (trying next):\n",
            "HTTP Error 404: Not Found\n",
            "\n",
            "Downloading https://ossci-datasets.s3.amazonaws.com/mnist/t10k-images-idx3-ubyte.gz\n",
            "Downloading https://ossci-datasets.s3.amazonaws.com/mnist/t10k-images-idx3-ubyte.gz to ./data/MNIST/raw/t10k-images-idx3-ubyte.gz\n"
          ]
        },
        {
          "output_type": "stream",
          "name": "stderr",
          "text": [
            "100%|██████████| 1.65M/1.65M [00:00<00:00, 4.45MB/s]\n"
          ]
        },
        {
          "output_type": "stream",
          "name": "stdout",
          "text": [
            "Extracting ./data/MNIST/raw/t10k-images-idx3-ubyte.gz to ./data/MNIST/raw\n",
            "\n",
            "Downloading http://yann.lecun.com/exdb/mnist/t10k-labels-idx1-ubyte.gz\n",
            "Failed to download (trying next):\n",
            "HTTP Error 404: Not Found\n",
            "\n",
            "Downloading https://ossci-datasets.s3.amazonaws.com/mnist/t10k-labels-idx1-ubyte.gz\n",
            "Downloading https://ossci-datasets.s3.amazonaws.com/mnist/t10k-labels-idx1-ubyte.gz to ./data/MNIST/raw/t10k-labels-idx1-ubyte.gz\n"
          ]
        },
        {
          "output_type": "stream",
          "name": "stderr",
          "text": [
            "100%|██████████| 4.54k/4.54k [00:00<00:00, 8.83MB/s]\n"
          ]
        },
        {
          "output_type": "stream",
          "name": "stdout",
          "text": [
            "Extracting ./data/MNIST/raw/t10k-labels-idx1-ubyte.gz to ./data/MNIST/raw\n",
            "\n",
            "Rodada 1/10: Cliente 2 enviou os pesos.\n",
            "Erro Global Atualizado: 1564509.1569\n",
            "Teste -> Perda: 86995.5569, Acurácia: 87.51%\n",
            "\n",
            "Rodada 2/10: Cliente 0 enviou os pesos.\n",
            "Erro Global Atualizado: 1472380.1895\n",
            "Teste -> Perda: 82967.2253, Acurácia: 87.04%\n",
            "\n",
            "Rodada 3/10: Cliente 1 enviou os pesos.\n",
            "Erro Global Atualizado: 1560759.3251\n",
            "Teste -> Perda: 95143.2394, Acurácia: 87.34%\n",
            "\n",
            "Rodada 4/10: Cliente 0 enviou os pesos.\n",
            "Erro Global Atualizado: 1472380.1895\n",
            "Teste -> Perda: 86215.7275, Acurácia: 87.18%\n",
            "\n",
            "Rodada 5/10: Cliente 0 enviou os pesos.\n",
            "Erro Global Atualizado: 1472380.1895\n",
            "Teste -> Perda: 82591.1133, Acurácia: 87.09%\n",
            "\n",
            "Rodada 6/10: Cliente 0 enviou os pesos.\n",
            "Erro Global Atualizado: 1472380.1895\n",
            "Teste -> Perda: 84563.5583, Acurácia: 87.04%\n",
            "\n",
            "Rodada 7/10: Cliente 1 enviou os pesos.\n",
            "Erro Global Atualizado: 1560759.3251\n",
            "Teste -> Perda: 96362.7364, Acurácia: 87.17%\n",
            "\n",
            "Rodada 8/10: Cliente 2 enviou os pesos.\n",
            "Erro Global Atualizado: 1564509.1569\n",
            "Teste -> Perda: 89591.8779, Acurácia: 87.57%\n",
            "\n",
            "Rodada 9/10: Cliente 0 enviou os pesos.\n",
            "Erro Global Atualizado: 1472380.1895\n",
            "Teste -> Perda: 85693.8858, Acurácia: 86.92%\n",
            "\n",
            "Rodada 10/10: Cliente 0 enviou os pesos.\n",
            "Erro Global Atualizado: 1472380.1895\n",
            "Teste -> Perda: 84870.2564, Acurácia: 86.60%\n",
            "\n",
            "Treinamento Federado Finalizado!\n"
          ]
        }
      ]
    }
  ]
}