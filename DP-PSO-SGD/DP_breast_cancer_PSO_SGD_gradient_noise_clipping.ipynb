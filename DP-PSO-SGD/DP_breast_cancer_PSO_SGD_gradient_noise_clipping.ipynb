{
  "nbformat": 4,
  "nbformat_minor": 0,
  "metadata": {
    "colab": {
      "provenance": [],
      "authorship_tag": "ABX9TyP91n+8NwixlHLrM4Xv3a6J",
      "include_colab_link": true
    },
    "kernelspec": {
      "name": "python3",
      "display_name": "Python 3"
    },
    "language_info": {
      "name": "python"
    }
  },
  "cells": [
    {
      "cell_type": "markdown",
      "metadata": {
        "id": "view-in-github",
        "colab_type": "text"
      },
      "source": [
        "<a href=\"https://colab.research.google.com/github/Julialunna/Artificial-Intelligence/blob/main/DP-PSO-SGD/DP_breast_cancer_PSO_SGD_gradient_noise_clipping.ipynb\" target=\"_parent\"><img src=\"https://colab.research.google.com/assets/colab-badge.svg\" alt=\"Open In Colab\"/></a>"
      ]
    },
    {
      "cell_type": "code",
      "execution_count": null,
      "metadata": {
        "id": "zaVB7puPivoj"
      },
      "outputs": [],
      "source": [
        "from sklearn.datasets import load_breast_cancer\n",
        "from sklearn.model_selection import train_test_split\n",
        "from sklearn.preprocessing import StandardScaler\n",
        "import torch\n",
        "import torch.optim as optim\n",
        "import copy\n",
        "import random\n",
        "device = torch.device(\"cuda\" if torch.cuda.is_available() else \"cpu\")\n",
        "\n"
      ]
    },
    {
      "cell_type": "code",
      "source": [
        "breast_cancer = load_breast_cancer()\n",
        "\n",
        "x=breast_cancer.data\n",
        "y=breast_cancer.target\n",
        "\n",
        "x_train, x_test, y_train, y_test = train_test_split(x, y, test_size=0.2, random_state=42)\n",
        "\n",
        "scaler = StandardScaler()\n",
        "x_train = scaler.fit_transform(x_train)  # Padroniza os dados de treino\n",
        "x_test = scaler.transform(x_test)  # Padroniza os dados de teste (usando os mesmos parâmetros do treino)\n",
        "\n",
        "# Converter para tensores do PyTorch\n",
        "x_train= torch.tensor(x_train, dtype=torch.float32)\n",
        "x_test = torch.tensor(x_test, dtype=torch.float32)\n",
        "y_train = torch.tensor(y_train, dtype=torch.float32).unsqueeze(1)\n",
        "y_test = torch.tensor(y_test, dtype=torch.float32).unsqueeze(1)\n",
        "\n"
      ],
      "metadata": {
        "id": "N4OOJrwujSTB"
      },
      "execution_count": null,
      "outputs": []
    },
    {
      "cell_type": "code",
      "source": [
        "class MLP(torch.nn.Module):\n",
        "  def __init__(self, input_size, output_size):\n",
        "    #chama superclasse\n",
        "    super(MLP, self).__init__()\n",
        "    self.fc1 = torch.nn.Linear(input_size, 128)\n",
        "    self.fc2 = torch.nn.Linear(128, 64)\n",
        "    self.fc3 = torch.nn.Linear(64, 32)\n",
        "    self.fc4 = torch.nn.Linear(32, 16)\n",
        "    self.fc5 = torch.nn.Linear(16, output_size)\n",
        "    #define o comportamento da rede neural\n",
        "  def forward(self, x):\n",
        "    x = torch.relu(self.fc1(x))\n",
        "    x = torch.relu(self.fc2(x))\n",
        "    x = torch.relu(self.fc3(x))\n",
        "    x = torch.relu(self.fc4(x))\n",
        "    x = self.fc5(x)\n",
        "    return x\n"
      ],
      "metadata": {
        "id": "FelXSoxPjsoJ"
      },
      "execution_count": null,
      "outputs": []
    },
    {
      "cell_type": "code",
      "source": [
        "class Particle:\n",
        "    def __init__(self, model, device):\n",
        "        self.model = copy.deepcopy(model).to(device)\n",
        "        self.best_model = copy.deepcopy(model).to(device)\n",
        "        # self.position = {name: torch.zeros_like(param).to(device) for name, param in model.named_parameters()}\n",
        "        # self.velocity = {name: torch.zeros_like(param).to(device) for name, param in model.named_parameters()}\n",
        "\n",
        "        # Definir os limites do espaço de busca e a escala da velocidade\n",
        "        #DIMINUIR LOW E HIGH\n",
        "        low = -10.0  # Limite inferior do espaço de busca\n",
        "        high = 10.0  # Limite superior do espaço de busca\n",
        "        velocity_scale = 0.1  # Escala para as velocidades iniciais\n",
        "\n",
        "        # Inicializar a posição com valores aleatórios uniformes no intervalo [low, high]\n",
        "        self.position = {name: torch.rand_like(param).to(device) * (high - low) + low for name, param in model.named_parameters()}\n",
        "\n",
        "        # Inicializar a velocidade com valores aleatórios pequenos (normalmente distribuídos)\n",
        "        self.velocity = {name: torch.randn_like(param).to(device) * velocity_scale for name, param in model.named_parameters()}\n",
        "\n",
        "        self.best_score = float('inf')\n",
        "        self.device = device\n",
        "        self.epsilon = 3\n",
        "        self.delta = 1e-5\n",
        "        self.sensitivity = 3\n",
        "\n",
        "        # Inicializar o otimizador (por exemplo, Adam)\n",
        "        #self.optimizer = optim.Adam(self.model.parameters(), lr=0.0001)\n",
        "        self.optimizer = optim.Adam(self.model.parameters(), lr=0.0001, weight_decay=1e-5)\n",
        "\n",
        "    def pso(self, global_best_model, inertia, c1, c2):\n",
        "        for name, param in self.model.named_parameters():\n",
        "            # if param.grad is None:\n",
        "            #     continue\n",
        "\n",
        "            local_rand = random.random()\n",
        "            global_rand = random.random()\n",
        "\n",
        "            # Atualização da velocidade\n",
        "            self.velocity[name] = (\n",
        "                inertia*self.velocity[name]\n",
        "                + c1*local_rand*(self.best_model.state_dict()[name].to(self.device) - param.data)\n",
        "                + c2*global_rand*(global_best_model.state_dict()[name].to(self.device) - param.data)\n",
        "            )\n",
        "            sigma = self.sensitivity * torch.sqrt(torch.tensor(2.0 * torch.log(torch.tensor(1.0 / self.delta)))) / self.epsilon\n",
        "            noise = torch.normal(mean=0, std=sigma, size=self.velocity[name].shape, device=self.device)\n",
        "\n",
        "            # Normaliza o ruído\n",
        "            noise_norm = noise / (torch.norm(noise) + 1e-8)\n",
        "\n",
        "            # Aplica ruído reduzido ao longo das iterações\n",
        "            self.velocity[name] += noise_norm #* noise_decay\n",
        "            #clipping velocity\n",
        "            self.velocity[name] = torch.clamp(self.velocity[name], -1.5, 1.5)\n",
        "\n",
        "            # Atualizar posição\n",
        "            self.position[name] = param.data + self.velocity[name]\n",
        "            param.data = self.position[name]\n",
        "\n",
        "    def evaluate_weights(self, x, y, criterion):\n",
        "        self.model.eval()\n",
        "        total_loss = 0\n",
        "        correct = 0\n",
        "        total = len(x_test)\n",
        "\n",
        "        with torch.no_grad():\n",
        "\n",
        "          outputs = self.model(x_test)\n",
        "          loss = criterion(outputs, y_test)\n",
        "          total_loss += loss.item()\n",
        "\n",
        "          predictions = torch.sigmoid(outputs)\n",
        "          predictions = (predictions > 0.5).float()\n",
        "\n",
        "          correct = (predictions == y_test).sum().item()\n",
        "\n",
        "\n",
        "        accuracy = correct / total\n",
        "        avg_loss = total_loss / total\n",
        "        return avg_loss, accuracy * 100"
      ],
      "metadata": {
        "id": "hmmYmcTYlNeK"
      },
      "execution_count": null,
      "outputs": []
    },
    {
      "cell_type": "code",
      "source": [
        "# Definir os hiperparâmetros do PSO e do Adam\n",
        "pop_size = 10\n",
        "num_epochs = 150\n",
        "#inertia = 0.9\n",
        "c1, c2 = 0.8, 0.9\n",
        "learning_rate = 0.008\n",
        "beta1, beta2 = 0.9, 0.999\n",
        "epsilon = 1e-8"
      ],
      "metadata": {
        "id": "JtPfDvtTmc5n"
      },
      "execution_count": null,
      "outputs": []
    },
    {
      "cell_type": "code",
      "source": [
        "model = MLP(input_size=x_train.size()[1], output_size=1)\n",
        "\n",
        "particles = [Particle(model, device) for _ in range(pop_size)]\n",
        "\n",
        "global_best_model = copy.deepcopy(particles[0].model)\n",
        "global_best_score = float('inf')\n",
        "\n",
        "criterion = torch.nn.BCEWithLogitsLoss()\n",
        "\n",
        "overall_global_best_accuracy = 0.0\n",
        "overall_global_best_model = copy.deepcopy(global_best_model)\n",
        "\n",
        "# Loop de treinamento do PSO\n",
        "for epoch in range(num_epochs):\n",
        "    inertia = 0.9 - ((0.9-0.4)/num_epochs)*epoch\n",
        "    for particle in particles:\n",
        "        # Colocar o modelo em modo de treinamento\n",
        "        particle.model.train()\n",
        "\n",
        "        particle.optimizer.zero_grad()\n",
        "\n",
        "        # Treinar a partícula (atualização de posição)\n",
        "        particle.pso(global_best_model, inertia, c1, c2)\n",
        "\n",
        "        outputs = particle.model(x_train)\n",
        "        loss = criterion(outputs, y_train)\n",
        "        loss.backward()\n",
        "        particle.optimizer.step()\n",
        "\n",
        "        val_loss, val_acc = particle.evaluate_weights(x_train, y_train, criterion)\n",
        "\n",
        "        # Avaliar a partícula e atualizar o local best\n",
        "\n",
        "        if val_loss < particle.best_score:\n",
        "            particle.best_score = val_loss\n",
        "            particle.best_model = copy.deepcopy(particle.model)\n",
        "\n",
        "    #Determinar e atualizar o g-best (modelo global)\n",
        "    best_particle = min(particles, key=lambda p: p.best_score)\n",
        "    if best_particle.best_score < global_best_score:\n",
        "        global_best_score = best_particle.best_score\n",
        "        global_best_model = copy.deepcopy(best_particle.best_model)\n",
        "    val_loss, val_accuracy = best_particle.evaluate_weights(x_test, y_test, criterion)\n",
        "    if val_accuracy > overall_global_best_accuracy:\n",
        "        overall_global_best_accuracy = val_accuracy\n",
        "        overall_global_best_model = copy.deepcopy(best_particle.best_model)\n",
        "\n",
        "    # Avaliar e imprimir a cada época\n",
        "    if (epoch + 1) % 10 == 0:\n",
        "\n",
        "        print(f'Epoch {epoch+1}/{num_epochs}, Validation Loss: {val_loss:.2f}, Validation Accuracy: {val_accuracy:.2f}')\n",
        "print(f'Best Models accuracy: {overall_global_best_accuracy:.2f}%')"
      ],
      "metadata": {
        "colab": {
          "base_uri": "https://localhost:8080/"
        },
        "id": "lzM6jIBZldkQ",
        "outputId": "4fcc9e6e-64a6-403d-fdc3-c7e1cc68b641"
      },
      "execution_count": null,
      "outputs": [
        {
          "output_type": "stream",
          "name": "stderr",
          "text": [
            "<ipython-input-4-16b270fb8205>:44: UserWarning: To copy construct from a tensor, it is recommended to use sourceTensor.clone().detach() or sourceTensor.clone().detach().requires_grad_(True), rather than torch.tensor(sourceTensor).\n",
            "  sigma = self.sensitivity * torch.sqrt(torch.tensor(2.0 * torch.log(torch.tensor(1.0 / self.delta)))) / self.epsilon\n"
          ]
        },
        {
          "output_type": "stream",
          "name": "stdout",
          "text": [
            "Epoch 10/150, Validation Loss: 0.03, Validation Accuracy: 37.72\n",
            "Epoch 20/150, Validation Loss: 0.00, Validation Accuracy: 85.09\n",
            "Epoch 30/150, Validation Loss: 0.02, Validation Accuracy: 64.04\n",
            "Epoch 40/150, Validation Loss: 0.02, Validation Accuracy: 38.60\n",
            "Epoch 50/150, Validation Loss: 0.00, Validation Accuracy: 94.74\n",
            "Epoch 60/150, Validation Loss: 0.01, Validation Accuracy: 57.89\n",
            "Epoch 70/150, Validation Loss: 0.01, Validation Accuracy: 79.82\n",
            "Epoch 80/150, Validation Loss: 0.00, Validation Accuracy: 92.98\n",
            "Epoch 90/150, Validation Loss: 0.00, Validation Accuracy: 99.12\n",
            "Epoch 100/150, Validation Loss: 0.00, Validation Accuracy: 94.74\n",
            "Epoch 110/150, Validation Loss: 0.00, Validation Accuracy: 94.74\n",
            "Epoch 120/150, Validation Loss: 0.00, Validation Accuracy: 95.61\n",
            "Epoch 130/150, Validation Loss: 0.00, Validation Accuracy: 97.37\n",
            "Epoch 140/150, Validation Loss: 0.00, Validation Accuracy: 92.98\n",
            "Epoch 150/150, Validation Loss: 0.00, Validation Accuracy: 94.74\n",
            "Best Models accuracy: 99.12%\n"
          ]
        }
      ]
    }
  ]
}