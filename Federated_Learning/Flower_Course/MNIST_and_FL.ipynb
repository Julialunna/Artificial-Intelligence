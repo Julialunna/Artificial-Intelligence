{
  "nbformat": 4,
  "nbformat_minor": 0,
  "metadata": {
    "colab": {
      "provenance": [],
      "authorship_tag": "ABX9TyPOEXQbAvboOaX46xNFMdKp",
      "include_colab_link": true
    },
    "kernelspec": {
      "name": "python3",
      "display_name": "Python 3"
    },
    "language_info": {
      "name": "python"
    }
  },
  "cells": [
    {
      "cell_type": "markdown",
      "metadata": {
        "id": "view-in-github",
        "colab_type": "text"
      },
      "source": [
        "<a href=\"https://colab.research.google.com/github/Julialunna/Artificial-Intelligence/blob/main/Federated_Learning/Flower_Course/MNIST_and_FL.ipynb\" target=\"_parent\"><img src=\"https://colab.research.google.com/assets/colab-badge.svg\" alt=\"Open In Colab\"/></a>"
      ]
    },
    {
      "cell_type": "code",
      "execution_count": null,
      "metadata": {
        "colab": {
          "base_uri": "https://localhost:8080/",
          "height": 524
        },
        "collapsed": true,
        "id": "w4NsOzY-CBzZ",
        "outputId": "84a1805b-6f47-4b75-9948-a0269243fe27"
      },
      "outputs": [
        {
          "output_type": "display_data",
          "data": {
            "text/plain": [
              "<IPython.core.display.HTML object>"
            ],
            "text/html": [
              "\n",
              "     <input type=\"file\" id=\"files-727a5e6c-f1d5-4943-a548-b33196d6e68f\" name=\"files[]\" multiple disabled\n",
              "        style=\"border:none\" />\n",
              "     <output id=\"result-727a5e6c-f1d5-4943-a548-b33196d6e68f\">\n",
              "      Upload widget is only available when the cell has been executed in the\n",
              "      current browser session. Please rerun this cell to enable.\n",
              "      </output>\n",
              "      <script>// Copyright 2017 Google LLC\n",
              "//\n",
              "// Licensed under the Apache License, Version 2.0 (the \"License\");\n",
              "// you may not use this file except in compliance with the License.\n",
              "// You may obtain a copy of the License at\n",
              "//\n",
              "//      http://www.apache.org/licenses/LICENSE-2.0\n",
              "//\n",
              "// Unless required by applicable law or agreed to in writing, software\n",
              "// distributed under the License is distributed on an \"AS IS\" BASIS,\n",
              "// WITHOUT WARRANTIES OR CONDITIONS OF ANY KIND, either express or implied.\n",
              "// See the License for the specific language governing permissions and\n",
              "// limitations under the License.\n",
              "\n",
              "/**\n",
              " * @fileoverview Helpers for google.colab Python module.\n",
              " */\n",
              "(function(scope) {\n",
              "function span(text, styleAttributes = {}) {\n",
              "  const element = document.createElement('span');\n",
              "  element.textContent = text;\n",
              "  for (const key of Object.keys(styleAttributes)) {\n",
              "    element.style[key] = styleAttributes[key];\n",
              "  }\n",
              "  return element;\n",
              "}\n",
              "\n",
              "// Max number of bytes which will be uploaded at a time.\n",
              "const MAX_PAYLOAD_SIZE = 100 * 1024;\n",
              "\n",
              "function _uploadFiles(inputId, outputId) {\n",
              "  const steps = uploadFilesStep(inputId, outputId);\n",
              "  const outputElement = document.getElementById(outputId);\n",
              "  // Cache steps on the outputElement to make it available for the next call\n",
              "  // to uploadFilesContinue from Python.\n",
              "  outputElement.steps = steps;\n",
              "\n",
              "  return _uploadFilesContinue(outputId);\n",
              "}\n",
              "\n",
              "// This is roughly an async generator (not supported in the browser yet),\n",
              "// where there are multiple asynchronous steps and the Python side is going\n",
              "// to poll for completion of each step.\n",
              "// This uses a Promise to block the python side on completion of each step,\n",
              "// then passes the result of the previous step as the input to the next step.\n",
              "function _uploadFilesContinue(outputId) {\n",
              "  const outputElement = document.getElementById(outputId);\n",
              "  const steps = outputElement.steps;\n",
              "\n",
              "  const next = steps.next(outputElement.lastPromiseValue);\n",
              "  return Promise.resolve(next.value.promise).then((value) => {\n",
              "    // Cache the last promise value to make it available to the next\n",
              "    // step of the generator.\n",
              "    outputElement.lastPromiseValue = value;\n",
              "    return next.value.response;\n",
              "  });\n",
              "}\n",
              "\n",
              "/**\n",
              " * Generator function which is called between each async step of the upload\n",
              " * process.\n",
              " * @param {string} inputId Element ID of the input file picker element.\n",
              " * @param {string} outputId Element ID of the output display.\n",
              " * @return {!Iterable<!Object>} Iterable of next steps.\n",
              " */\n",
              "function* uploadFilesStep(inputId, outputId) {\n",
              "  const inputElement = document.getElementById(inputId);\n",
              "  inputElement.disabled = false;\n",
              "\n",
              "  const outputElement = document.getElementById(outputId);\n",
              "  outputElement.innerHTML = '';\n",
              "\n",
              "  const pickedPromise = new Promise((resolve) => {\n",
              "    inputElement.addEventListener('change', (e) => {\n",
              "      resolve(e.target.files);\n",
              "    });\n",
              "  });\n",
              "\n",
              "  const cancel = document.createElement('button');\n",
              "  inputElement.parentElement.appendChild(cancel);\n",
              "  cancel.textContent = 'Cancel upload';\n",
              "  const cancelPromise = new Promise((resolve) => {\n",
              "    cancel.onclick = () => {\n",
              "      resolve(null);\n",
              "    };\n",
              "  });\n",
              "\n",
              "  // Wait for the user to pick the files.\n",
              "  const files = yield {\n",
              "    promise: Promise.race([pickedPromise, cancelPromise]),\n",
              "    response: {\n",
              "      action: 'starting',\n",
              "    }\n",
              "  };\n",
              "\n",
              "  cancel.remove();\n",
              "\n",
              "  // Disable the input element since further picks are not allowed.\n",
              "  inputElement.disabled = true;\n",
              "\n",
              "  if (!files) {\n",
              "    return {\n",
              "      response: {\n",
              "        action: 'complete',\n",
              "      }\n",
              "    };\n",
              "  }\n",
              "\n",
              "  for (const file of files) {\n",
              "    const li = document.createElement('li');\n",
              "    li.append(span(file.name, {fontWeight: 'bold'}));\n",
              "    li.append(span(\n",
              "        `(${file.type || 'n/a'}) - ${file.size} bytes, ` +\n",
              "        `last modified: ${\n",
              "            file.lastModifiedDate ? file.lastModifiedDate.toLocaleDateString() :\n",
              "                                    'n/a'} - `));\n",
              "    const percent = span('0% done');\n",
              "    li.appendChild(percent);\n",
              "\n",
              "    outputElement.appendChild(li);\n",
              "\n",
              "    const fileDataPromise = new Promise((resolve) => {\n",
              "      const reader = new FileReader();\n",
              "      reader.onload = (e) => {\n",
              "        resolve(e.target.result);\n",
              "      };\n",
              "      reader.readAsArrayBuffer(file);\n",
              "    });\n",
              "    // Wait for the data to be ready.\n",
              "    let fileData = yield {\n",
              "      promise: fileDataPromise,\n",
              "      response: {\n",
              "        action: 'continue',\n",
              "      }\n",
              "    };\n",
              "\n",
              "    // Use a chunked sending to avoid message size limits. See b/62115660.\n",
              "    let position = 0;\n",
              "    do {\n",
              "      const length = Math.min(fileData.byteLength - position, MAX_PAYLOAD_SIZE);\n",
              "      const chunk = new Uint8Array(fileData, position, length);\n",
              "      position += length;\n",
              "\n",
              "      const base64 = btoa(String.fromCharCode.apply(null, chunk));\n",
              "      yield {\n",
              "        response: {\n",
              "          action: 'append',\n",
              "          file: file.name,\n",
              "          data: base64,\n",
              "        },\n",
              "      };\n",
              "\n",
              "      let percentDone = fileData.byteLength === 0 ?\n",
              "          100 :\n",
              "          Math.round((position / fileData.byteLength) * 100);\n",
              "      percent.textContent = `${percentDone}% done`;\n",
              "\n",
              "    } while (position < fileData.byteLength);\n",
              "  }\n",
              "\n",
              "  // All done.\n",
              "  yield {\n",
              "    response: {\n",
              "      action: 'complete',\n",
              "    }\n",
              "  };\n",
              "}\n",
              "\n",
              "scope.google = scope.google || {};\n",
              "scope.google.colab = scope.google.colab || {};\n",
              "scope.google.colab._files = {\n",
              "  _uploadFiles,\n",
              "  _uploadFilesContinue,\n",
              "};\n",
              "})(self);\n",
              "</script> "
            ]
          },
          "metadata": {}
        },
        {
          "output_type": "stream",
          "name": "stdout",
          "text": [
            "Saving utils1.py to utils1.py\n"
          ]
        },
        {
          "output_type": "execute_result",
          "data": {
            "text/plain": [
              "{'utils1.py': b'\"\"\"\\nUtility functions and classes for Jupyter Notebooks lessons. \\n\"\"\"\\n\\nimport torch\\nimport torch.nn as nn\\nfrom torch.utils.data import Subset, DataLoader, random_split\\nimport torch.optim as optim\\nfrom torchvision import datasets, transforms\\nimport numpy as np\\nimport matplotlib.pyplot as plt\\nfrom sklearn.metrics import confusion_matrix\\nimport seaborn as sns\\n\\ntransform = transforms.Compose(\\n    [transforms.ToTensor(), transforms.Normalize((0.5,), (0.5,))]\\n)\\n\\n\\nclass SimpleModel(nn.Module):\\n    def __init__(self):\\n        super(SimpleModel, self).__init__()\\n        self.fc = nn.Linear(784, 128)\\n        self.relu = nn.ReLU()\\n        self.out = nn.Linear(128, 10)\\n\\n    def forward(self, x):\\n        x = torch.flatten(x, 1)\\n        x = self.fc(x)\\n        x = self.relu(x)\\n        x = self.out(x)\\n        return x\\n\\n\\ndef train_model(model, train_set):\\n    batch_size = 64\\n    num_epochs = 10\\n\\n    train_loader = DataLoader(train_set, batch_size=batch_size, shuffle=True)\\n\\n    criterion = nn.CrossEntropyLoss()\\n    optimizer = optim.SGD(model.parameters(), lr=0.01, momentum=0.9)\\n\\n    model.train()\\n    for epoch in range(num_epochs):\\n        running_loss = 0.0\\n        for inputs, labels in train_loader:\\n            optimizer.zero_grad()\\n            outputs = model(inputs)\\n            loss = criterion(outputs, labels)\\n            loss.backward()\\n            optimizer.step()\\n            running_loss += loss.item()\\n\\n        print(f\"Epoch {epoch + 1}: Loss = {running_loss / len(train_loader)}\")\\n\\n    print(\"Training complete\")\\n\\n\\ndef evaluate_model(model, test_set):\\n    model.eval()  # Set model to evaluation mode\\n    correct = 0\\n    total = 0\\n    total_loss = 0\\n\\n    test_loader = DataLoader(test_set, batch_size=64, shuffle=False)\\n    criterion = nn.CrossEntropyLoss()\\n\\n    with torch.no_grad():\\n        for inputs, labels in test_loader:\\n            outputs = model(inputs)\\n            _, predicted = torch.max(outputs.data, 1)\\n            total += labels.size(0)\\n            correct += (predicted == labels).sum().item()\\n\\n            loss = criterion(outputs, labels)\\n            total_loss += loss.item()\\n\\n    accuracy = correct / total\\n    average_loss = total_loss / len(test_loader)\\n\\n    return average_loss, accuracy\\n\\n\\ndef include_digits(dataset, included_digits):\\n    including_indices = [\\n        idx for idx in range(len(dataset)) if dataset[idx][1] in included_digits\\n    ]\\n    return torch.utils.data.Subset(dataset, including_indices)\\n\\n\\ndef exclude_digits(dataset, excluded_digits):\\n    including_indices = [\\n        idx for idx in range(len(dataset)) if dataset[idx][1] not in excluded_digits\\n    ]\\n    return torch.utils.data.Subset(dataset, including_indices)\\n\\n\\ndef plot_distribution(dataset, title):\\n    labels = [data[1] for data in dataset]\\n    unique_labels, label_counts = torch.unique(torch.tensor(labels), return_counts=True)\\n\\n    plt.figure(figsize=(4, 2))\\n\\n    counts_dict = {\\n        label.item(): count.item() for label, count in zip(unique_labels, label_counts)\\n    }\\n\\n    all_labels = np.arange(10)\\n    all_label_counts = [counts_dict.get(label, 0) for label in all_labels]\\n\\n    plt.bar(all_labels, all_label_counts)\\n    plt.title(title)\\n    plt.xlabel(\"Digit\")\\n    plt.ylabel(\"Count\")\\n    plt.xticks(all_labels)\\n    plt.show()\\n\\n\\ndef compute_confusion_matrix(model, testset):\\n    # Initialize lists to store true labels and predicted labels\\n    true_labels = []\\n    predicted_labels = []\\n\\n    # Iterate over the test set to get predictions\\n    for image, label in testset:\\n        # Forward pass through the model to get predictions\\n        output = model(image.unsqueeze(0))  # Add batch dimension\\n        _, predicted = torch.max(output, 1)\\n\\n        # Append true and predicted labels to lists\\n        true_labels.append(label)\\n        predicted_labels.append(predicted.item())\\n\\n    # Convert lists to numpy arrays\\n    true_labels = np.array(true_labels)\\n    predicted_labels = np.array(predicted_labels)\\n\\n    # Compute confusion matrix\\n    cm = confusion_matrix(true_labels, predicted_labels)\\n\\n    return cm\\n\\n\\ndef plot_confusion_matrix(cm, title):\\n    plt.figure(figsize=(6, 4))\\n    sns.heatmap(cm, annot=True, cmap=\"Blues\", fmt=\"d\", linewidths=0.5)\\n    plt.title(title)\\n    plt.xlabel(\"Predicted Label\")\\n    plt.ylabel(\"True Label\")\\n    plt.show()\\n'}"
            ]
          },
          "metadata": {},
          "execution_count": 2
        }
      ],
      "source": [
        "from google.colab import files\n",
        "files.upload()"
      ]
    },
    {
      "cell_type": "code",
      "source": [
        "from utils1 import *\n",
        "trainset = datasets.MNIST(\n",
        "    \"./MNIST_data/\", download=True, train=True, transform=transform\n",
        ")"
      ],
      "metadata": {
        "colab": {
          "base_uri": "https://localhost:8080/"
        },
        "collapsed": true,
        "id": "6f-vfqEUIAtJ",
        "outputId": "3b7b1d70-ec00-4d4c-f1d8-fafc6b88d1cf"
      },
      "execution_count": null,
      "outputs": [
        {
          "output_type": "stream",
          "name": "stdout",
          "text": [
            "Downloading http://yann.lecun.com/exdb/mnist/train-images-idx3-ubyte.gz\n",
            "Failed to download (trying next):\n",
            "HTTP Error 403: Forbidden\n",
            "\n",
            "Downloading https://ossci-datasets.s3.amazonaws.com/mnist/train-images-idx3-ubyte.gz\n",
            "Downloading https://ossci-datasets.s3.amazonaws.com/mnist/train-images-idx3-ubyte.gz to ./MNIST_data/MNIST/raw/train-images-idx3-ubyte.gz\n"
          ]
        },
        {
          "output_type": "stream",
          "name": "stderr",
          "text": [
            "100%|██████████| 9.91M/9.91M [00:00<00:00, 16.0MB/s]\n"
          ]
        },
        {
          "output_type": "stream",
          "name": "stdout",
          "text": [
            "Extracting ./MNIST_data/MNIST/raw/train-images-idx3-ubyte.gz to ./MNIST_data/MNIST/raw\n",
            "\n",
            "Downloading http://yann.lecun.com/exdb/mnist/train-labels-idx1-ubyte.gz\n",
            "Failed to download (trying next):\n",
            "HTTP Error 403: Forbidden\n",
            "\n",
            "Downloading https://ossci-datasets.s3.amazonaws.com/mnist/train-labels-idx1-ubyte.gz\n",
            "Downloading https://ossci-datasets.s3.amazonaws.com/mnist/train-labels-idx1-ubyte.gz to ./MNIST_data/MNIST/raw/train-labels-idx1-ubyte.gz\n"
          ]
        },
        {
          "output_type": "stream",
          "name": "stderr",
          "text": [
            "100%|██████████| 28.9k/28.9k [00:00<00:00, 502kB/s]\n"
          ]
        },
        {
          "output_type": "stream",
          "name": "stdout",
          "text": [
            "Extracting ./MNIST_data/MNIST/raw/train-labels-idx1-ubyte.gz to ./MNIST_data/MNIST/raw\n",
            "\n",
            "Downloading http://yann.lecun.com/exdb/mnist/t10k-images-idx3-ubyte.gz\n",
            "Failed to download (trying next):\n",
            "HTTP Error 403: Forbidden\n",
            "\n",
            "Downloading https://ossci-datasets.s3.amazonaws.com/mnist/t10k-images-idx3-ubyte.gz\n",
            "Downloading https://ossci-datasets.s3.amazonaws.com/mnist/t10k-images-idx3-ubyte.gz to ./MNIST_data/MNIST/raw/t10k-images-idx3-ubyte.gz\n"
          ]
        },
        {
          "output_type": "stream",
          "name": "stderr",
          "text": [
            "100%|██████████| 1.65M/1.65M [00:00<00:00, 4.42MB/s]\n"
          ]
        },
        {
          "output_type": "stream",
          "name": "stdout",
          "text": [
            "Extracting ./MNIST_data/MNIST/raw/t10k-images-idx3-ubyte.gz to ./MNIST_data/MNIST/raw\n",
            "\n",
            "Downloading http://yann.lecun.com/exdb/mnist/t10k-labels-idx1-ubyte.gz\n",
            "Failed to download (trying next):\n",
            "HTTP Error 403: Forbidden\n",
            "\n",
            "Downloading https://ossci-datasets.s3.amazonaws.com/mnist/t10k-labels-idx1-ubyte.gz\n",
            "Downloading https://ossci-datasets.s3.amazonaws.com/mnist/t10k-labels-idx1-ubyte.gz to ./MNIST_data/MNIST/raw/t10k-labels-idx1-ubyte.gz\n"
          ]
        },
        {
          "output_type": "stream",
          "name": "stderr",
          "text": [
            "100%|██████████| 4.54k/4.54k [00:00<00:00, 2.01MB/s]"
          ]
        },
        {
          "output_type": "stream",
          "name": "stdout",
          "text": [
            "Extracting ./MNIST_data/MNIST/raw/t10k-labels-idx1-ubyte.gz to ./MNIST_data/MNIST/raw\n",
            "\n"
          ]
        },
        {
          "output_type": "stream",
          "name": "stderr",
          "text": [
            "\n"
          ]
        }
      ]
    },
    {
      "cell_type": "code",
      "source": [
        "#spliting the dataset for 3 users\n",
        "total_length = len(trainset)\n",
        "split_size = total_length // 3\n",
        "\n",
        "#garantee part1, part2 and part3 will always be divided the same way\n",
        "torch.manual_seed(42)\n",
        "part1, part2, part3 = random_split(trainset, [split_size] * 3)"
      ],
      "metadata": {
        "id": "z5PqsqYoIdx9"
      },
      "execution_count": null,
      "outputs": []
    },
    {
      "cell_type": "code",
      "source": [
        "#simulating the different datasets that normally are available in real world\n",
        "#exclude_digits was provided by utils1\n",
        "part1 = exclude_digits(part1, excluded_digits=[1,3,7])\n",
        "part2 = exclude_digits(part2, excluded_digits=[2,5,8])\n",
        "part3 = exclude_digits(part3, excluded_digits=[4,6,9])"
      ],
      "metadata": {
        "id": "uH2fM1eBJpil"
      },
      "execution_count": null,
      "outputs": []
    },
    {
      "cell_type": "code",
      "source": [
        "#graphing the plot distribution,function provided by uttils1\n",
        "plot_distribution(part1, \"Part 1\")\n",
        "plot_distribution(part2, \"Part 2\")\n",
        "plot_distribution(part3, \"Part 3\")"
      ],
      "metadata": {
        "colab": {
          "base_uri": "https://localhost:8080/",
          "height": 734
        },
        "id": "MV7SWbkJZJRi",
        "outputId": "4a73d466-9959-417a-f036-4441b1ff7d6f"
      },
      "execution_count": null,
      "outputs": [
        {
          "output_type": "display_data",
          "data": {
            "text/plain": [
              "<Figure size 400x200 with 1 Axes>"
            ],
            "image/png": "[encoded data removed]"
          },
          "metadata": {}
        },
        {
          "output_type": "display_data",
          "data": {
            "text/plain": [
              "<Figure size 400x200 with 1 Axes>"
            ],
            "image/png": "[encoded data removed]"
          },
          "metadata": {}
        },
        {
          "output_type": "display_data",
          "data": {
            "text/plain": [
              "<Figure size 400x200 with 1 Axes>"
            ],
            "image/png": "[encoded data removed]"
          },
          "metadata": {}
        }
      ]
    },
    {
      "cell_type": "code",
      "source": [
        "#SimpleModel() is a neural network implemented in PyTorch with just two full connected layers\n",
        "#train_model has 3 epochs\n",
        "model3 = SimpleModel()\n",
        "train_model(model3, part3)"
      ],
      "metadata": {
        "colab": {
          "base_uri": "https://localhost:8080/"
        },
        "id": "KOLhNgYiZmUV",
        "outputId": "509ae97d-f172-427a-a989-4695ad9c87b9"
      },
      "execution_count": null,
      "outputs": [
        {
          "output_type": "stream",
          "name": "stdout",
          "text": [
            "Epoch 1: Loss = 0.4970384649261161\n",
            "Epoch 2: Loss = 0.25920433636654067\n",
            "Epoch 3: Loss = 0.19885337377923565\n",
            "Epoch 4: Loss = 0.16703526167249358\n",
            "Epoch 5: Loss = 0.1374537765409227\n",
            "Epoch 6: Loss = 0.11534061491371947\n",
            "Epoch 7: Loss = 0.09809749829373113\n",
            "Epoch 8: Loss = 0.08562183100730181\n",
            "Epoch 9: Loss = 0.07556183585846746\n",
            "Epoch 10: Loss = 0.06717150446514154\n",
            "Training complete\n"
          ]
        }
      ]
    },
    {
      "cell_type": "code",
      "source": [
        "model1 = SimpleModel()\n",
        "train_model(model1, part1)\n",
        "model2 = SimpleModel()\n",
        "train_model(model2, part2)"
      ],
      "metadata": {
        "colab": {
          "base_uri": "https://localhost:8080/"
        },
        "id": "SC97TcGVbqAS",
        "outputId": "d93f875a-dd73-4cb1-b748-94d439accbc0"
      },
      "execution_count": null,
      "outputs": [
        {
          "output_type": "stream",
          "name": "stdout",
          "text": [
            "Epoch 1: Loss = 0.4951677582984747\n",
            "Epoch 2: Loss = 0.2423358987237132\n",
            "Epoch 3: Loss = 0.19357951205483703\n",
            "Epoch 4: Loss = 0.15564361893853476\n",
            "Epoch 5: Loss = 0.13416876279164192\n",
            "Epoch 6: Loss = 0.10884703710501971\n",
            "Epoch 7: Loss = 0.0936977970132301\n",
            "Epoch 8: Loss = 0.07736468863088725\n",
            "Epoch 9: Loss = 0.06677426838770856\n",
            "Epoch 10: Loss = 0.06053616429657437\n",
            "Training complete\n",
            "Epoch 1: Loss = 0.39977005277095096\n",
            "Epoch 2: Loss = 0.18134871382166498\n",
            "Epoch 3: Loss = 0.151376020346236\n",
            "Epoch 4: Loss = 0.13532975175517745\n",
            "Epoch 5: Loss = 0.11493722103685806\n",
            "Epoch 6: Loss = 0.10712869280749666\n",
            "Epoch 7: Loss = 0.08711415841077853\n",
            "Epoch 8: Loss = 0.07995401672503379\n",
            "Epoch 9: Loss = 0.07127729635560952\n",
            "Epoch 10: Loss = 0.0660948239580778\n",
            "Training complete\n"
          ]
        }
      ]
    },
    {
      "cell_type": "code",
      "source": [],
      "metadata": {
        "id": "KMevpywKunpd"
      },
      "execution_count": null,
      "outputs": []
    }
  ]
}