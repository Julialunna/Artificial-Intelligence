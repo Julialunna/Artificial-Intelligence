{
  "nbformat": 4,
  "nbformat_minor": 0,
  "metadata": {
    "colab": {
      "provenance": [],
      "authorship_tag": "ABX9TyM+YNGR1Z/vynz7DeFAl+zD",
      "include_colab_link": true
    },
    "kernelspec": {
      "name": "python3",
      "display_name": "Python 3"
    },
    "language_info": {
      "name": "python"
    }
  },
  "cells": [
    {
      "cell_type": "markdown",
      "metadata": {
        "id": "view-in-github",
        "colab_type": "text"
      },
      "source": [
        "<a href=\"https://colab.research.google.com/github/Julialunna/Artificial-Intelligence/blob/main/Federated_Learning%20/Flower_Course/second_lesson/MNIST_FL_model_train.ipynb\" target=\"_parent\"><img src=\"https://colab.research.google.com/assets/colab-badge.svg\" alt=\"Open In Colab\"/></a>"
      ]
    },
    {
      "cell_type": "code",
      "source": [
        "#installing flower\n",
        "!pip install flwr"
      ],
      "metadata": {
        "colab": {
          "base_uri": "https://localhost:8080/"
        },
        "collapsed": true,
        "id": "x7MxQnsioRCL",
        "outputId": "77ebae1c-c822-44e7-ee55-a707046972f4"
      },
      "execution_count": 2,
      "outputs": [
        {
          "output_type": "stream",
          "name": "stdout",
          "text": [
            "Collecting flwr\n",
            "  Downloading flwr-1.14.0-py3-none-any.whl.metadata (15 kB)\n",
            "Collecting cryptography<43.0.0,>=42.0.4 (from flwr)\n",
            "  Downloading cryptography-42.0.8-cp39-abi3-manylinux_2_28_x86_64.whl.metadata (5.3 kB)\n",
            "Collecting grpcio!=1.64.2,<2.0.0,<=1.64.3,>=1.60.0 (from flwr)\n",
            "  Downloading grpcio-1.64.3-cp310-cp310-manylinux_2_17_x86_64.manylinux2014_x86_64.whl.metadata (3.3 kB)\n",
            "Collecting iterators<0.0.3,>=0.0.2 (from flwr)\n",
            "  Downloading iterators-0.0.2-py3-none-any.whl.metadata (2.5 kB)\n",
            "Requirement already satisfied: numpy<3.0.0,>=1.26.0 in /usr/local/lib/python3.10/dist-packages (from flwr) (1.26.4)\n",
            "Collecting pathspec<0.13.0,>=0.12.1 (from flwr)\n",
            "  Downloading pathspec-0.12.1-py3-none-any.whl.metadata (21 kB)\n",
            "Requirement already satisfied: protobuf<5.0.0,>=4.25.2 in /usr/local/lib/python3.10/dist-packages (from flwr) (4.25.5)\n",
            "Collecting pycryptodome<4.0.0,>=3.18.0 (from flwr)\n",
            "  Downloading pycryptodome-3.21.0-cp36-abi3-manylinux_2_17_x86_64.manylinux2014_x86_64.whl.metadata (3.4 kB)\n",
            "Requirement already satisfied: pyyaml<7.0.0,>=6.0.2 in /usr/local/lib/python3.10/dist-packages (from flwr) (6.0.2)\n",
            "Requirement already satisfied: requests<3.0.0,>=2.31.0 in /usr/local/lib/python3.10/dist-packages (from flwr) (2.32.3)\n",
            "Requirement already satisfied: rich<14.0.0,>=13.5.0 in /usr/local/lib/python3.10/dist-packages (from flwr) (13.9.4)\n",
            "Requirement already satisfied: tomli<3.0.0,>=2.0.1 in /usr/local/lib/python3.10/dist-packages (from flwr) (2.2.1)\n",
            "Collecting tomli-w<2.0.0,>=1.0.0 (from flwr)\n",
            "  Downloading tomli_w-1.1.0-py3-none-any.whl.metadata (5.7 kB)\n",
            "Collecting typer<0.13.0,>=0.12.5 (from flwr)\n",
            "  Downloading typer-0.12.5-py3-none-any.whl.metadata (15 kB)\n",
            "Requirement already satisfied: cffi>=1.12 in /usr/local/lib/python3.10/dist-packages (from cryptography<43.0.0,>=42.0.4->flwr) (1.17.1)\n",
            "Requirement already satisfied: charset-normalizer<4,>=2 in /usr/local/lib/python3.10/dist-packages (from requests<3.0.0,>=2.31.0->flwr) (3.4.1)\n",
            "Requirement already satisfied: idna<4,>=2.5 in /usr/local/lib/python3.10/dist-packages (from requests<3.0.0,>=2.31.0->flwr) (3.10)\n",
            "Requirement already satisfied: urllib3<3,>=1.21.1 in /usr/local/lib/python3.10/dist-packages (from requests<3.0.0,>=2.31.0->flwr) (2.3.0)\n",
            "Requirement already satisfied: certifi>=2017.4.17 in /usr/local/lib/python3.10/dist-packages (from requests<3.0.0,>=2.31.0->flwr) (2024.12.14)\n",
            "Requirement already satisfied: markdown-it-py>=2.2.0 in /usr/local/lib/python3.10/dist-packages (from rich<14.0.0,>=13.5.0->flwr) (3.0.0)\n",
            "Requirement already satisfied: pygments<3.0.0,>=2.13.0 in /usr/local/lib/python3.10/dist-packages (from rich<14.0.0,>=13.5.0->flwr) (2.18.0)\n",
            "Requirement already satisfied: typing-extensions<5.0,>=4.0.0 in /usr/local/lib/python3.10/dist-packages (from rich<14.0.0,>=13.5.0->flwr) (4.12.2)\n",
            "Requirement already satisfied: click>=8.0.0 in /usr/local/lib/python3.10/dist-packages (from typer<0.13.0,>=0.12.5->flwr) (8.1.8)\n",
            "Requirement already satisfied: shellingham>=1.3.0 in /usr/local/lib/python3.10/dist-packages (from typer<0.13.0,>=0.12.5->flwr) (1.5.4)\n",
            "Requirement already satisfied: pycparser in /usr/local/lib/python3.10/dist-packages (from cffi>=1.12->cryptography<43.0.0,>=42.0.4->flwr) (2.22)\n",
            "Requirement already satisfied: mdurl~=0.1 in /usr/local/lib/python3.10/dist-packages (from markdown-it-py>=2.2.0->rich<14.0.0,>=13.5.0->flwr) (0.1.2)\n",
            "Downloading flwr-1.14.0-py3-none-any.whl (523 kB)\n",
            "\u001b[2K   \u001b[90m━━━━━━━━━━━━━━━━━━━━━━━━━━━━━━━━━━━━━━━━\u001b[0m \u001b[32m523.6/523.6 kB\u001b[0m \u001b[31m24.0 MB/s\u001b[0m eta \u001b[36m0:00:00\u001b[0m\n",
            "\u001b[?25hDownloading cryptography-42.0.8-cp39-abi3-manylinux_2_28_x86_64.whl (3.9 MB)\n",
            "\u001b[2K   \u001b[90m━━━━━━━━━━━━━━━━━━━━━━━━━━━━━━━━━━━━━━━━\u001b[0m \u001b[32m3.9/3.9 MB\u001b[0m \u001b[31m66.5 MB/s\u001b[0m eta \u001b[36m0:00:00\u001b[0m\n",
            "\u001b[?25hDownloading grpcio-1.64.3-cp310-cp310-manylinux_2_17_x86_64.manylinux2014_x86_64.whl (5.6 MB)\n",
            "\u001b[2K   \u001b[90m━━━━━━━━━━━━━━━━━━━━━━━━━━━━━━━━━━━━━━━━\u001b[0m \u001b[32m5.6/5.6 MB\u001b[0m \u001b[31m64.3 MB/s\u001b[0m eta \u001b[36m0:00:00\u001b[0m\n",
            "\u001b[?25hDownloading iterators-0.0.2-py3-none-any.whl (3.9 kB)\n",
            "Downloading pathspec-0.12.1-py3-none-any.whl (31 kB)\n",
            "Downloading pycryptodome-3.21.0-cp36-abi3-manylinux_2_17_x86_64.manylinux2014_x86_64.whl (2.3 MB)\n",
            "\u001b[2K   \u001b[90m━━━━━━━━━━━━━━━━━━━━━━━━━━━━━━━━━━━━━━━━\u001b[0m \u001b[32m2.3/2.3 MB\u001b[0m \u001b[31m50.7 MB/s\u001b[0m eta \u001b[36m0:00:00\u001b[0m\n",
            "\u001b[?25hDownloading tomli_w-1.1.0-py3-none-any.whl (6.4 kB)\n",
            "Downloading typer-0.12.5-py3-none-any.whl (47 kB)\n",
            "\u001b[2K   \u001b[90m━━━━━━━━━━━━━━━━━━━━━━━━━━━━━━━━━━━━━━━━\u001b[0m \u001b[32m47.3/47.3 kB\u001b[0m \u001b[31m3.0 MB/s\u001b[0m eta \u001b[36m0:00:00\u001b[0m\n",
            "\u001b[?25hInstalling collected packages: tomli-w, pycryptodome, pathspec, iterators, grpcio, cryptography, typer, flwr\n",
            "  Attempting uninstall: grpcio\n",
            "    Found existing installation: grpcio 1.69.0\n",
            "    Uninstalling grpcio-1.69.0:\n",
            "      Successfully uninstalled grpcio-1.69.0\n",
            "  Attempting uninstall: cryptography\n",
            "    Found existing installation: cryptography 43.0.3\n",
            "    Uninstalling cryptography-43.0.3:\n",
            "      Successfully uninstalled cryptography-43.0.3\n",
            "  Attempting uninstall: typer\n",
            "    Found existing installation: typer 0.15.1\n",
            "    Uninstalling typer-0.15.1:\n",
            "      Successfully uninstalled typer-0.15.1\n",
            "Successfully installed cryptography-42.0.8 flwr-1.14.0 grpcio-1.64.3 iterators-0.0.2 pathspec-0.12.1 pycryptodome-3.21.0 tomli-w-1.1.0 typer-0.12.5\n"
          ]
        }
      ]
    },
    {
      "cell_type": "code",
      "source": [
        "from utils2 import *\n",
        "import flwr\n",
        "from flwr.client import Client, ClientApp, NumPyClient\n",
        "from flwr.common import ndarrays_to_parameters, Context\n",
        "from flwr.server import ServerApp, ServerConfig\n",
        "from flwr.server import ServerAppComponents\n",
        "from flwr.server.strategy import FedAvg\n",
        "from flwr.simulation import run_simulation\n"
      ],
      "metadata": {
        "id": "btxoVjz5nG52"
      },
      "execution_count": 3,
      "outputs": []
    },
    {
      "cell_type": "code",
      "source": [
        "#recreating datasets\n",
        "trainset = datasets.MNIST(\n",
        "    \"./MNIST_data/\", download=True, train=True, transform=transform\n",
        ")\n",
        "\n",
        "total_length = len(trainset)\n",
        "split_size = total_length // 3\n",
        "torch.manual_seed(42)\n",
        "part1, part2, part3 = random_split(trainset, [split_size] * 3)\n",
        "\n",
        "part1 = exclude_digits(part1, excluded_digits=[1, 3, 7])\n",
        "part2 = exclude_digits(part2, excluded_digits=[2, 5, 8])\n",
        "part3 = exclude_digits(part3, excluded_digits=[4, 6, 9])\n",
        "\n",
        "train_sets = [part1, part2, part3]"
      ],
      "metadata": {
        "colab": {
          "base_uri": "https://localhost:8080/"
        },
        "collapsed": true,
        "id": "GJWiBViuonRA",
        "outputId": "0f2c8eaa-cff5-4dd9-f2f2-7be3f3f936b3"
      },
      "execution_count": 4,
      "outputs": [
        {
          "output_type": "stream",
          "name": "stdout",
          "text": [
            "Downloading http://yann.lecun.com/exdb/mnist/train-images-idx3-ubyte.gz\n",
            "Failed to download (trying next):\n",
            "HTTP Error 403: Forbidden\n",
            "\n",
            "Downloading https://ossci-datasets.s3.amazonaws.com/mnist/train-images-idx3-ubyte.gz\n",
            "Downloading https://ossci-datasets.s3.amazonaws.com/mnist/train-images-idx3-ubyte.gz to ./MNIST_data/MNIST/raw/train-images-idx3-ubyte.gz\n"
          ]
        },
        {
          "output_type": "stream",
          "name": "stderr",
          "text": [
            "100%|██████████| 9.91M/9.91M [00:00<00:00, 128MB/s]\n"
          ]
        },
        {
          "output_type": "stream",
          "name": "stdout",
          "text": [
            "Extracting ./MNIST_data/MNIST/raw/train-images-idx3-ubyte.gz to ./MNIST_data/MNIST/raw\n",
            "\n",
            "Downloading http://yann.lecun.com/exdb/mnist/train-labels-idx1-ubyte.gz\n",
            "Failed to download (trying next):\n",
            "HTTP Error 403: Forbidden\n",
            "\n",
            "Downloading https://ossci-datasets.s3.amazonaws.com/mnist/train-labels-idx1-ubyte.gz\n",
            "Downloading https://ossci-datasets.s3.amazonaws.com/mnist/train-labels-idx1-ubyte.gz to ./MNIST_data/MNIST/raw/train-labels-idx1-ubyte.gz\n"
          ]
        },
        {
          "output_type": "stream",
          "name": "stderr",
          "text": [
            "100%|██████████| 28.9k/28.9k [00:00<00:00, 23.3MB/s]\n"
          ]
        },
        {
          "output_type": "stream",
          "name": "stdout",
          "text": [
            "Extracting ./MNIST_data/MNIST/raw/train-labels-idx1-ubyte.gz to ./MNIST_data/MNIST/raw\n",
            "\n",
            "Downloading http://yann.lecun.com/exdb/mnist/t10k-images-idx3-ubyte.gz\n",
            "Failed to download (trying next):\n",
            "HTTP Error 403: Forbidden\n",
            "\n",
            "Downloading https://ossci-datasets.s3.amazonaws.com/mnist/t10k-images-idx3-ubyte.gz\n",
            "Downloading https://ossci-datasets.s3.amazonaws.com/mnist/t10k-images-idx3-ubyte.gz to ./MNIST_data/MNIST/raw/t10k-images-idx3-ubyte.gz\n"
          ]
        },
        {
          "output_type": "stream",
          "name": "stderr",
          "text": [
            "100%|██████████| 1.65M/1.65M [00:00<00:00, 83.2MB/s]\n"
          ]
        },
        {
          "output_type": "stream",
          "name": "stdout",
          "text": [
            "Extracting ./MNIST_data/MNIST/raw/t10k-images-idx3-ubyte.gz to ./MNIST_data/MNIST/raw\n",
            "\n",
            "Downloading http://yann.lecun.com/exdb/mnist/t10k-labels-idx1-ubyte.gz\n",
            "Failed to download (trying next):\n",
            "HTTP Error 403: Forbidden\n",
            "\n",
            "Downloading https://ossci-datasets.s3.amazonaws.com/mnist/t10k-labels-idx1-ubyte.gz\n",
            "Downloading https://ossci-datasets.s3.amazonaws.com/mnist/t10k-labels-idx1-ubyte.gz to ./MNIST_data/MNIST/raw/t10k-labels-idx1-ubyte.gz\n"
          ]
        },
        {
          "output_type": "stream",
          "name": "stderr",
          "text": [
            "100%|██████████| 4.54k/4.54k [00:00<00:00, 8.53MB/s]"
          ]
        },
        {
          "output_type": "stream",
          "name": "stdout",
          "text": [
            "Extracting ./MNIST_data/MNIST/raw/t10k-labels-idx1-ubyte.gz to ./MNIST_data/MNIST/raw\n",
            "\n"
          ]
        },
        {
          "output_type": "stream",
          "name": "stderr",
          "text": [
            "\n"
          ]
        }
      ]
    },
    {
      "cell_type": "code",
      "source": [
        "#recreating testsets\n",
        "testset = datasets.MNIST(\n",
        "    \"./MNIST_data/\", download=True, train=False, transform=transform\n",
        ")\n",
        "print(\"Number of examples in `testset`:\", len(testset))\n",
        "\n",
        "testset_137 = include_digits(testset, [1, 3, 7])\n",
        "testset_258 = include_digits(testset, [2, 5, 8])\n",
        "testset_469 = include_digits(testset, [4, 6, 9])"
      ],
      "metadata": {
        "id": "t9KoM3sFo_VL",
        "outputId": "d9fe932b-6b7f-4492-874b-8051b9854ff2",
        "colab": {
          "base_uri": "https://localhost:8080/"
        }
      },
      "execution_count": 5,
      "outputs": [
        {
          "output_type": "stream",
          "name": "stdout",
          "text": [
            "Number of examples in `testset`: 10000\n"
          ]
        }
      ]
    },
    {
      "cell_type": "code",
      "source": [
        "#Setter for model parameterers\n",
        "def set_weights(net, parameters):\n",
        "    params_dict = zip(net.state_dict().keys(), parameters)\n",
        "    state_dict = OrderedDict(\n",
        "        {k: torch.tensor(v) for k, v in params_dict}\n",
        "    )\n",
        "    net.load_state_dict(state_dict, strict=True)\n",
        "#Getter for model parameters\n",
        "def get_weights(net):\n",
        "  ndarrays = [\n",
        "    val.cpu().numpy() for _, val in net.state_dict().items()\n",
        "  ]\n",
        "  return ndarrays\n"
      ],
      "metadata": {
        "id": "0_Wl4oOKs6T3"
      },
      "execution_count": 27,
      "outputs": []
    },
    {
      "cell_type": "markdown",
      "source": [
        "Set_weights:</br>\n",
        "net is a reference to the PyTorch model and parameters is a list o ndarrays. It uses the list of ndarrays to uptade all the items</br>\n",
        "Get_weights:</br>\n",
        "net is a reference to the simple PyTorch model. We iterate over the items convert each one into a numpy ndarray (vetorn-dimensional homogêneo) and return a list containing all of those ndarrays.\n"
      ],
      "metadata": {
        "id": "TyQ6NjjqF7nA"
      }
    },
    {
      "cell_type": "code",
      "source": [
        "class FlowerClient(NumPyClient):\n",
        "  def __init__(self, net, trainset, testset, device):\n",
        "    self.net = net\n",
        "    self.trainset = trainset\n",
        "    self.testset = testset\n",
        "\n",
        "  def fit(self, parameters, config):\n",
        "    set_weight(self.net, parameters)\n",
        "    train_model(self.net. self.trainset)\n",
        "    return get_weights(self.net), len(self.trainset), {}\n",
        "\n",
        "  def evaluate(self, parameters: NDArrays, config: Dict[str, Scalar]):\n",
        "    set_weights(self.net, parameters)\n",
        "    loss, accuracy = evaluate_model(self.net, self.testset)\n",
        "    return loss, len(self.testset), {\"accuracy\": accuracy}\n",
        ""
      ],
      "metadata": {
        "id": "iiJm5Za0uve_"
      },
      "execution_count": 7,
      "outputs": []
    },
    {
      "cell_type": "markdown",
      "source": [
        "self = this. </br>\n",
        "the Simple_models consiste em uma camada linear com 784 entradas e 128 saídas, esta camada tem 128 neurônios, função de ativação ReLu, e outra camada linear com 128 entradas e 10 saídas, esta camada te 10 neurônios.\n",
        "\n"
      ],
      "metadata": {
        "id": "ne2LWXSzJLZY"
      }
    },
    {
      "cell_type": "code",
      "source": [
        "#client function\n",
        "def client_fn(context: Context) -> Client:\n",
        "  net = SimpleModel()\n",
        "  partition_id = int(context.node_config[\"partition-id\"])\n",
        "  client_train = train_sets[int(partition_id)]\n",
        "  client_test = testset\n",
        "  return FlowerClient(net, client_train, client_test).to_client()"
      ],
      "metadata": {
        "id": "kNKnFNdNLb_8"
      },
      "execution_count": 8,
      "outputs": []
    },
    {
      "cell_type": "markdown",
      "source": [
        "Flower calls client_fn whenever it needs an instance of one particular client to call fit or evaluate.</br>\n",
        "client1 is tested with part1, client2 with part2 and cliente 3 with part3 (client_train = train_sets[int(partition_id)])\n",
        "\n"
      ],
      "metadata": {
        "id": "J2UDlu8KS6EP"
      }
    },
    {
      "cell_type": "code",
      "source": [
        "client = ClientApp(client_fn)"
      ],
      "metadata": {
        "id": "McQRh5fwRrLA"
      },
      "execution_count": 9,
      "outputs": []
    },
    {
      "cell_type": "markdown",
      "source": [
        "ClientApp represents a client in the federated system, it is responsible to comunicate whith the central server and execute local operations"
      ],
      "metadata": {
        "id": "heQWWTGVMs2c"
      }
    },
    {
      "cell_type": "code",
      "source": [
        "def evaluate(server_round, parameters, config):\n",
        "  net = SimpleModel()\n",
        "  set_weights(net, parameters)\n",
        "\n",
        "  _, accuracy = evaluate_model(net, testset)\n",
        "  _, accuracy137 = evaluate_model(net, testset_137)\n",
        "  _, accuracy258 = evaluate_model(net, testset_258)\n",
        "  _, accuracy469 = evaluate_model(net, testset_469)\n",
        "\n",
        "  log(INFO, \"test accuracy on all digits: %.4f\", accuracy)\n",
        "  log(INFO, \"test accuracy on [1,3,7]: %.4f\", accuracy137)\n",
        "  log(INFO, \"test accuracy on [2,5,8]: %.4f\", accuracy258)\n",
        "  log(INFO, \"test accuracy on [4,6,9]: %.4f\", accuracy469)\n",
        "\n",
        "  if server_round == 3:\n",
        "    cm = compute_confusion_matrix(net, testset)\n",
        "    plot_confusion_matriz(cm, \"Final Global Model\")\n",
        "\n",
        ""
      ],
      "metadata": {
        "id": "e0Mdj_PHTF6-"
      },
      "execution_count": 31,
      "outputs": []
    },
    {
      "cell_type": "markdown",
      "source": [
        "The evaluarte method evaluates the performance of the neural network model using the provided parameters and the test dataset"
      ],
      "metadata": {
        "id": "js7k6HnxTJDF"
      }
    },
    {
      "cell_type": "code",
      "source": [
        "net = SimpleModel()\n",
        "params = ndarrays_to_parameters(get_weights(net))\n",
        "\n",
        "def server_fn(context: Context):\n",
        "    strategy = FedAvg(\n",
        "        fraction_fit=1.0,\n",
        "        fraction_evaluate=0.0,\n",
        "        initial_parameters=params,\n",
        "        evaluate_fn=evaluate,\n",
        "    )\n",
        "    config=ServerConfig(num_rounds=3)\n",
        "    return ServerAppComponents(\n",
        "        strategy=strategy,\n",
        "        config=config,\n",
        "    )"
      ],
      "metadata": {
        "id": "8CrfUkS0V3fW"
      },
      "execution_count": 32,
      "outputs": []
    },
    {
      "cell_type": "code",
      "source": [
        "server = ServerApp(server_fn = server_fn)"
      ],
      "metadata": {
        "id": "LhPxQJ_GYmVf"
      },
      "execution_count": 33,
      "outputs": []
    },
    {
      "cell_type": "markdown",
      "source": [
        "ServerApp, ServerConfig... all functions and classes are from flower"
      ],
      "metadata": {
        "id": "imA_mKTbYyud"
      }
    },
    {
      "cell_type": "code",
      "source": [
        "#running simulation\n",
        "run_simulation(\n",
        "    server_app = server,\n",
        "    client_app = client,\n",
        "    num_supernodes=3,\n",
        ")"
      ],
      "metadata": {
        "id": "V6QeMc34ZCjD"
      },
      "execution_count": null,
      "outputs": []
    },
    {
      "cell_type": "markdown",
      "source": [
        "clients = supernodes"
      ],
      "metadata": {
        "id": "x5V02madZXCm"
      }
    }
  ]
}