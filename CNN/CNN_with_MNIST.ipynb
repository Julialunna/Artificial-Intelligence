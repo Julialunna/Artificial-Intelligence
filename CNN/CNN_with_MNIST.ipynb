{
  "nbformat": 4,
  "nbformat_minor": 0,
  "metadata": {
    "colab": {
      "provenance": [],
      "authorship_tag": "ABX9TyObJira8nHqWGzP23g8sqvx",
      "include_colab_link": true
    },
    "kernelspec": {
      "name": "python3",
      "display_name": "Python 3"
    },
    "language_info": {
      "name": "python"
    }
  },
  "cells": [
    {
      "cell_type": "markdown",
      "metadata": {
        "id": "view-in-github",
        "colab_type": "text"
      },
      "source": [
        "<a href=\"https://colab.research.google.com/github/Julialunna/Artificial-Intelligence/blob/main/CNN/CNN_with_MNIST.ipynb\" target=\"_parent\"><img src=\"https://colab.research.google.com/assets/colab-badge.svg\" alt=\"Open In Colab\"/></a>"
      ]
    },
    {
      "cell_type": "code",
      "execution_count": null,
      "metadata": {
        "id": "G9IEQJHflU_C"
      },
      "outputs": [],
      "source": [
        "import numpy as np\n",
        "import keras\n",
        "from keras.datasets import mnist\n",
        "from keras.models import Model\n",
        "#dense: camada na rede neural, input: específica forma dos dados\n",
        "from keras.layers import Dense, Input\n",
        "#conv2d: camda de convulução bidimensional (imagem é bidimensional)\n",
        "from keras.layers import Conv2D, MaxPooling2D, Dropout, Flatten\n",
        "#interface que abstrai os frameworks subjacentes usados pelo Keras\n",
        "from keras import backend as k\n",
        "\n",
        "#dataset de treinamento e dataset para teste\n",
        "(X_train, Y_train), (X_test, Y_test) = mnist.load_data()\n",
        "\n",
        "img_rows, img_cols = 28, 28\n"
      ]
    },
    {
      "cell_type": "code",
      "source": [
        "#normalizando dados\n",
        "#chanels_first com cinza é: (1, 28, 28), esse um se refere ao canal de cor (rgb seria 3 por ex)\n",
        "\n",
        "if k.image_data_format() == 'channels_first':\n",
        "    X_train = X_train.reshape(X_train.shape[0], 1, img_rows, img_cols)\n",
        "    X_test = X_test.reshape(X_train.shape[0], 1, img_rows, img_cols)\n",
        "    inpx=(1,img_rows, img_cols)\n",
        "\n",
        "#chanels_last com cinza é: (28, 28, 1)\n",
        "\n",
        "elif k.image_data_format() == 'channels_last':\n",
        "    X_train = X_train.reshape(X_train.shape[0], img_rows, img_cols, 1)\n",
        "    X_test = X_test.reshape(X_test.shape[0], img_rows, img_cols, 1)\n",
        "    inpx=(img_rows, img_cols, 1)\n",
        "\n",
        "X_train = X_train.astype('float32')\n",
        "X_test = X_test.astype('float32')\n",
        "\n",
        "#Há menos erro númerico com números no intervalo [0,1], desse modo não se sai muito do intervalo\n",
        "X_train /= 255\n",
        "X_test /= 255\n"
      ],
      "metadata": {
        "colab": {
          "base_uri": "https://localhost:8080/"
        },
        "id": "1d0Mx5G93VfW",
        "outputId": "b6853bc0-ce41-4633-c7c2-ffbd5b4e5ddf"
      },
      "execution_count": null,
      "outputs": [
        {
          "output_type": "stream",
          "name": "stdout",
          "text": [
            "channels_last\n"
          ]
        }
      ]
    },
    {
      "cell_type": "code",
      "source": [],
      "metadata": {
        "id": "l0AlP9dA6h4X"
      },
      "execution_count": null,
      "outputs": []
    },
    {
      "cell_type": "code",
      "source": [],
      "metadata": {
        "id": "1Mal_5xt5VnA"
      },
      "execution_count": null,
      "outputs": []
    }
  ]
}