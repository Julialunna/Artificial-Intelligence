{
  "nbformat": 4,
  "nbformat_minor": 0,
  "metadata": {
    "colab": {
      "provenance": [],
      "authorship_tag": "ABX9TyNXzgAqt4NjhPhn6gG5irSl",
      "include_colab_link": true
    },
    "kernelspec": {
      "name": "python3",
      "display_name": "Python 3"
    },
    "language_info": {
      "name": "python"
    }
  },
  "cells": [
    {
      "cell_type": "markdown",
      "metadata": {
        "id": "view-in-github",
        "colab_type": "text"
      },
      "source": [
        "<a href=\"https://colab.research.google.com/github/Julialunna/Artificial-Intelligence/blob/main/CNN/CNN_with_MNIST.ipynb\" target=\"_parent\"><img src=\"https://colab.research.google.com/assets/colab-badge.svg\" alt=\"Open In Colab\"/></a>"
      ]
    },
    {
      "cell_type": "code",
      "execution_count": null,
      "metadata": {
        "id": "G9IEQJHflU_C"
      },
      "outputs": [],
      "source": [
        "import numpy as np\n",
        "import keras\n",
        "from keras.datasets import mnist\n",
        "from keras.models import Model\n",
        "from keras.layers import Dense, Input\n",
        "from keras.layers import Conv2D, MaxPooling2D, Dropout, Flatten\n",
        "from keras import backend as k\n",
        "\n",
        "#training dataset and test dataset\n",
        "(X_train, Y_train), (X_test, Y_test) = mnist.load_data()\n",
        "\n",
        "img_rows, img_cols = 28, 28\n"
      ]
    },
    {
      "cell_type": "markdown",
      "source": [
        "\n",
        "Dense: camada na rede neural. Input: específica forma dos dados </br>\n",
        "Model:classe que representa um modelo em Keras. </br>\n",
        "Conv2d: camada de convulução bidimensional (imagem é bidimensional)\n",
        "\n"
      ],
      "metadata": {
        "id": "9eYoF7wg8Y5O"
      }
    },
    {
      "cell_type": "code",
      "source": [
        "#normalizing data\n",
        "if k.image_data_format() == 'channels_first':\n",
        "    X_train = X_train.reshape(X_train.shape[0], 1, img_rows, img_cols)\n",
        "    X_test = X_test.reshape(X_train.shape[0], 1, img_rows, img_cols)\n",
        "    inpx=(1,img_rows, img_cols)\n",
        "\n",
        "\n",
        "\n",
        "elif k.image_data_format() == 'channels_last':\n",
        "    X_train = X_train.reshape(X_train.shape[0], img_rows, img_cols, 1)\n",
        "    X_test = X_test.reshape(X_test.shape[0], img_rows, img_cols, 1)\n",
        "    inpx=(img_rows, img_cols, 1)\n",
        "\n",
        "X_train = X_train.astype('float32')\n",
        "X_test = X_test.astype('float32')\n",
        "\n",
        "\n",
        "X_train /= 255\n",
        "X_test /= 255\n"
      ],
      "metadata": {
        "colab": {
          "base_uri": "https://localhost:8080/"
        },
        "id": "1d0Mx5G93VfW",
        "outputId": "b6853bc0-ce41-4633-c7c2-ffbd5b4e5ddf"
      },
      "execution_count": null,
      "outputs": [
        {
          "output_type": "stream",
          "name": "stdout",
          "text": [
            "channels_last\n"
          ]
        }
      ]
    },
    {
      "cell_type": "markdown",
      "source": [
        "\n",
        "chanels_first com cinza é: (1, 28, 28), (esse um se refere ao canal de cor, rgb seria 3 por ex)</br>\n",
        "chanels_last com cinza é: (28, 28, 1)</br>\n",
        "Multiplicamos por 255, pois há menos erro númerico com números no intervalo [0,1], desse modo nas transformações não se sai muito desse intervalo\n",
        "\n"
      ],
      "metadata": {
        "id": "yrpegFIF9Hom"
      }
    },
    {
      "cell_type": "code",
      "source": [
        "#defining output classes\n",
        "Y_train=keras.utils.to_categorical(Y_train)\n",
        "Y_test=keras.utils.to_categorical(Y_test)"
      ],
      "metadata": {
        "id": "l0AlP9dA6h4X"
      },
      "execution_count": 17,
      "outputs": []
    },
    {
      "cell_type": "markdown",
      "source": [
        "Definindo as 10 classes de ouput (uma vai dar 1 e o resto 0) </br>\n",
        "É detectado 10 rótulos diferentes em utils.to_categorical, por isso criou 10 classes de output\n",
        "\n"
      ],
      "metadata": {
        "id": "ZfExYxpz9yCn"
      }
    },
    {
      "cell_type": "code",
      "source": [
        "#CNN model\n",
        "inpx = Input(shape=inpx)\n",
        "layer1 = Conv2D(32, kernel_size=(3,3), activation='relu')(inpx)\n",
        "layer2 = Conv2D(64, (3,3), activation='relu')(layer1)\n",
        "layer3 = MaxPooling2D(pool_size = (3,3))(layer2)\n",
        "layer4 = Dropout(0.5)(layer3)\n",
        "layer5 = Flatten()(layer4)\n",
        "layer6 = Dense(250, activation='sigmoid')(layer5)\n",
        "layer7 = Dense(10, activation='softmax')(layer6)\n",
        "\n",
        "\n",
        "\n",
        "\n"
      ],
      "metadata": {
        "id": "Ee0eMRiT8Vmm"
      },
      "execution_count": null,
      "outputs": []
    },
    {
      "cell_type": "markdown",
      "source": [
        "Layer1 convoluciona a imagem usando 32 filtros do tamanho 3*3</br>\n",
        "Layer2 usa 64 filtros. Os filtros são definidos nos treinamentos.</br>\n",
        "Layer3 pega o valor máximo da matriz 3x3, assim resume o mapa de características, uma 24x24 vira 8x8 </br>\n",
        "Layer4 Desativa (ou \"zera\") aleatoriamente 50% das unidades da camada anterior durante cada iteração de treinamento, melhora a generalização do modelo.</br>\n",
        "Layer5 Converte o mapa de características tridimensional em um vetor unidimensional para passar em camadas densas</br>\n",
        "Layer6 É uma camada densa com 250 neurônios, onde cada neurônio está conectado a todas as unidades da camada anterior. Usa a função de ativação sigmoid, que transforma a saída de cada neurônio em um valor no intervalo (0, 1). Aqui se aprende os padrões</br>\n",
        "Layer7 É a camada de saída com 10 neurônios, onde cada neurônio representa uma classe possível (dígitos de 0 a 9).\n"
      ],
      "metadata": {
        "id": "kvoNpeZK-bZG"
      }
    },
    {
      "cell_type": "markdown",
      "source": [],
      "metadata": {
        "id": "MlZimotYDK-d"
      }
    },
    {
      "cell_type": "code",
      "source": [],
      "metadata": {
        "id": "Le5xfYcCCU_T"
      },
      "execution_count": null,
      "outputs": []
    }
  ]
}