{
  "nbformat": 4,
  "nbformat_minor": 0,
  "metadata": {
    "colab": {
      "provenance": [],
      "authorship_tag": "ABX9TyP8NghTDsN9PjFXCOvymS3j",
      "include_colab_link": true
    },
    "kernelspec": {
      "name": "python3",
      "display_name": "Python 3"
    },
    "language_info": {
      "name": "python"
    }
  },
  "cells": [
    {
      "cell_type": "markdown",
      "metadata": {
        "id": "view-in-github",
        "colab_type": "text"
      },
      "source": [
        "<a href=\"https://colab.research.google.com/github/Julialunna/Artificial-Intelligence/blob/main/CNN/CNN_with_MNIST.ipynb\" target=\"_parent\"><img src=\"https://colab.research.google.com/assets/colab-badge.svg\" alt=\"Open In Colab\"/></a>"
      ]
    },
    {
      "cell_type": "code",
      "execution_count": 2,
      "metadata": {
        "id": "G9IEQJHflU_C",
        "colab": {
          "base_uri": "https://localhost:8080/"
        },
        "outputId": "7a254c9f-efaf-4bb6-8e48-9aa759438183"
      },
      "outputs": [
        {
          "output_type": "stream",
          "name": "stdout",
          "text": [
            "Downloading data from https://storage.googleapis.com/tensorflow/tf-keras-datasets/mnist.npz\n",
            "\u001b[1m11490434/11490434\u001b[0m \u001b[32m━━━━━━━━━━━━━━━━━━━━\u001b[0m\u001b[37m\u001b[0m \u001b[1m0s\u001b[0m 0us/step\n"
          ]
        }
      ],
      "source": [
        "import numpy as np\n",
        "import keras\n",
        "from keras.datasets import mnist\n",
        "from keras.models import Model\n",
        "from keras.layers import Dense, Input\n",
        "from keras.layers import Conv2D, MaxPooling2D, Dropout, Flatten\n",
        "from keras import backend as k\n",
        "\n",
        "#training dataset and test dataset\n",
        "(X_train, Y_train), (X_test, Y_test) = mnist.load_data()\n",
        "\n",
        "img_rows, img_cols = 28, 28\n"
      ]
    },
    {
      "cell_type": "markdown",
      "source": [
        "\n",
        "Dense: camada na rede neural. Input: específica forma dos dados </br>\n",
        "Model:classe que representa um modelo em Keras. </br>\n",
        "Conv2d: camada de convulução bidimensional (imagem é bidimensional)\n",
        "\n"
      ],
      "metadata": {
        "id": "9eYoF7wg8Y5O"
      }
    },
    {
      "cell_type": "code",
      "source": [
        "#normalizing data\n",
        "if k.image_data_format() == 'channels_first':\n",
        "    X_train = X_train.reshape(X_train.shape[0], 1, img_rows, img_cols)\n",
        "    X_test = X_test.reshape(X_train.shape[0], 1, img_rows, img_cols)\n",
        "    inpx=(1,img_rows, img_cols)\n",
        "\n",
        "\n",
        "\n",
        "elif k.image_data_format() == 'channels_last':\n",
        "    X_train = X_train.reshape(X_train.shape[0], img_rows, img_cols, 1)\n",
        "    X_test = X_test.reshape(X_test.shape[0], img_rows, img_cols, 1)\n",
        "    inpx=(img_rows, img_cols, 1)\n",
        "\n",
        "X_train = X_train.astype('float32')\n",
        "X_test = X_test.astype('float32')\n",
        "\n",
        "\n",
        "X_train /= 255\n",
        "X_test /= 255\n"
      ],
      "metadata": {
        "id": "1d0Mx5G93VfW"
      },
      "execution_count": 3,
      "outputs": []
    },
    {
      "cell_type": "markdown",
      "source": [
        "\n",
        "chanels_first com cinza é: (1, 28, 28), (esse um se refere ao canal de cor, rgb seria 3 por ex)</br>\n",
        "chanels_last com cinza é: (28, 28, 1)</br>\n",
        "Multiplicamos por 255, pois há menos erro númerico com números no intervalo [0,1], desse modo nas transformações não se sai muito desse intervalo\n",
        "\n"
      ],
      "metadata": {
        "id": "yrpegFIF9Hom"
      }
    },
    {
      "cell_type": "code",
      "source": [
        "#defining output classes\n",
        "Y_train=keras.utils.to_categorical(Y_train)\n",
        "Y_test=keras.utils.to_categorical(Y_test)"
      ],
      "metadata": {
        "id": "l0AlP9dA6h4X"
      },
      "execution_count": 4,
      "outputs": []
    },
    {
      "cell_type": "markdown",
      "source": [
        "Definindo as 10 classes de ouput (uma vai dar 1 e o resto 0) </br>\n",
        "É detectado 10 rótulos diferentes em utils.to_categorical, por isso criou 10 classes de output\n",
        "\n"
      ],
      "metadata": {
        "id": "ZfExYxpz9yCn"
      }
    },
    {
      "cell_type": "code",
      "source": [
        "#CNN model\n",
        "inpx = Input(shape=inpx)\n",
        "layer1 = Conv2D(32, kernel_size=(3,3), activation='relu')(inpx)\n",
        "layer2 = Conv2D(64, (3,3), activation='relu')(layer1)\n",
        "layer3 = MaxPooling2D(pool_size = (3,3))(layer2)\n",
        "layer4 = Dropout(0.5)(layer3)\n",
        "layer5 = Flatten()(layer4)\n",
        "layer6 = Dense(250, activation='sigmoid')(layer5)\n",
        "layer7 = Dense(10, activation='softmax')(layer6)"
      ],
      "metadata": {
        "id": "Ee0eMRiT8Vmm"
      },
      "execution_count": 5,
      "outputs": []
    },
    {
      "cell_type": "markdown",
      "source": [
        "Layer1 convoluciona a imagem usando 32 filtros do tamanho 3*3</br>\n",
        "Layer2 usa 64 filtros. Os filtros são definidos nos treinamentos.</br>\n",
        "Layer3 pega o valor máximo da matriz 3x3, assim resume o mapa de características, uma 24x24 vira 8x8 </br>\n",
        "Layer4 Desativa (ou \"zera\") aleatoriamente 50% das unidades da camada anterior durante cada iteração de treinamento, melhora a generalização do modelo.</br>\n",
        "Layer5 Converte o mapa de características tridimensional em um vetor unidimensional para passar em camadas densas</br>\n",
        "Layer6 É uma camada densa com 250 neurônios, onde cada neurônio está conectado a todas as unidades da camada anterior. Usa a função de ativação sigmoid, que transforma a saída de cada neurônio em um valor no intervalo (0, 1). Aqui se aprende os padrões</br>\n",
        "Layer7 É a camada de saída com 10 neurônios, onde cada neurônio representa uma classe possível (dígitos de 0 a 9).\n"
      ],
      "metadata": {
        "id": "kvoNpeZK-bZG"
      }
    },
    {
      "cell_type": "code",
      "source": [
        "model = Model([inpx], layer7)\n",
        "model.compile(optimizer=keras.optimizers.Adadelta(),\n",
        "              loss=keras.losses.categorical_crossentropy,\n",
        "              metrics=['accuracy'])\n",
        "model.fit(X_train, Y_train, epochs=12, batch_size=500)\n"
      ],
      "metadata": {
        "id": "Le5xfYcCCU_T",
        "colab": {
          "base_uri": "https://localhost:8080/"
        },
        "outputId": "f0b35848-2eb5-471b-99d6-59606400c2b5"
      },
      "execution_count": 7,
      "outputs": [
        {
          "output_type": "stream",
          "name": "stdout",
          "text": [
            "Epoch 1/12\n",
            "\u001b[1m120/120\u001b[0m \u001b[32m━━━━━━━━━━━━━━━━━━━━\u001b[0m\u001b[37m\u001b[0m \u001b[1m164s\u001b[0m 1s/step - accuracy: 0.0981 - loss: 2.4929\n",
            "Epoch 2/12\n",
            "\u001b[1m120/120\u001b[0m \u001b[32m━━━━━━━━━━━━━━━━━━━━\u001b[0m\u001b[37m\u001b[0m \u001b[1m199s\u001b[0m 1s/step - accuracy: 0.1005 - loss: 2.4714\n",
            "Epoch 3/12\n",
            "\u001b[1m120/120\u001b[0m \u001b[32m━━━━━━━━━━━━━━━━━━━━\u001b[0m\u001b[37m\u001b[0m \u001b[1m201s\u001b[0m 1s/step - accuracy: 0.0995 - loss: 2.4529\n",
            "Epoch 4/12\n",
            "\u001b[1m120/120\u001b[0m \u001b[32m━━━━━━━━━━━━━━━━━━━━\u001b[0m\u001b[37m\u001b[0m \u001b[1m203s\u001b[0m 1s/step - accuracy: 0.1007 - loss: 2.4370\n",
            "Epoch 5/12\n",
            "\u001b[1m120/120\u001b[0m \u001b[32m━━━━━━━━━━━━━━━━━━━━\u001b[0m\u001b[37m\u001b[0m \u001b[1m202s\u001b[0m 1s/step - accuracy: 0.0991 - loss: 2.4189\n",
            "Epoch 6/12\n",
            "\u001b[1m120/120\u001b[0m \u001b[32m━━━━━━━━━━━━━━━━━━━━\u001b[0m\u001b[37m\u001b[0m \u001b[1m205s\u001b[0m 1s/step - accuracy: 0.0998 - loss: 2.4006\n",
            "Epoch 7/12\n",
            "\u001b[1m120/120\u001b[0m \u001b[32m━━━━━━━━━━━━━━━━━━━━\u001b[0m\u001b[37m\u001b[0m \u001b[1m204s\u001b[0m 1s/step - accuracy: 0.1013 - loss: 2.3865\n",
            "Epoch 8/12\n",
            "\u001b[1m120/120\u001b[0m \u001b[32m━━━━━━━━━━━━━━━━━━━━\u001b[0m\u001b[37m\u001b[0m \u001b[1m197s\u001b[0m 1s/step - accuracy: 0.0981 - loss: 2.3725\n",
            "Epoch 9/12\n",
            "\u001b[1m120/120\u001b[0m \u001b[32m━━━━━━━━━━━━━━━━━━━━\u001b[0m\u001b[37m\u001b[0m \u001b[1m204s\u001b[0m 1s/step - accuracy: 0.0954 - loss: 2.3605\n",
            "Epoch 10/12\n",
            "\u001b[1m120/120\u001b[0m \u001b[32m━━━━━━━━━━━━━━━━━━━━\u001b[0m\u001b[37m\u001b[0m \u001b[1m201s\u001b[0m 1s/step - accuracy: 0.0997 - loss: 2.3380\n",
            "Epoch 11/12\n",
            "\u001b[1m120/120\u001b[0m \u001b[32m━━━━━━━━━━━━━━━━━━━━\u001b[0m\u001b[37m\u001b[0m \u001b[1m201s\u001b[0m 1s/step - accuracy: 0.1012 - loss: 2.3277\n",
            "Epoch 12/12\n",
            "\u001b[1m120/120\u001b[0m \u001b[32m━━━━━━━━━━━━━━━━━━━━\u001b[0m\u001b[37m\u001b[0m \u001b[1m204s\u001b[0m 1s/step - accuracy: 0.0990 - loss: 2.3140\n"
          ]
        },
        {
          "output_type": "execute_result",
          "data": {
            "text/plain": [
              "<keras.src.callbacks.history.History at 0x7dff4d21b9a0>"
            ]
          },
          "metadata": {},
          "execution_count": 7
        }
      ]
    },
    {
      "cell_type": "markdown",
      "source": [
        "Model define entrada do modelo como inpx e saída como layer7</br>\n",
        "No compile definimos o otimizador para atualização de pesos, nesse caso o Asadelta. A função de perda usada é categorical crossentropy, ideal para classeficação multiclasse (0 a 9). Utiliza acurácia como métrica.</br>\n",
        "Método model.fit treina o modelo.\n",
        "\n"
      ],
      "metadata": {
        "id": "uNaRyzswHedY"
      }
    }
  ]
}