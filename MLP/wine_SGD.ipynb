{
  "nbformat": 4,
  "nbformat_minor": 0,
  "metadata": {
    "colab": {
      "provenance": [],
      "authorship_tag": "ABX9TyNXOlh5gERil71bPPXgb2Pz",
      "include_colab_link": true
    },
    "kernelspec": {
      "name": "python3",
      "display_name": "Python 3"
    },
    "language_info": {
      "name": "python"
    }
  },
  "cells": [
    {
      "cell_type": "markdown",
      "metadata": {
        "id": "view-in-github",
        "colab_type": "text"
      },
      "source": [
        "<a href=\"https://colab.research.google.com/github/Julialunna/Artificial-Intelligence/blob/main/MLP/wine_SGD.ipynb\" target=\"_parent\"><img src=\"https://colab.research.google.com/assets/colab-badge.svg\" alt=\"Open In Colab\"/></a>"
      ]
    },
    {
      "cell_type": "code",
      "execution_count": 1,
      "metadata": {
        "id": "4rwEd8uienPX"
      },
      "outputs": [],
      "source": [
        "from sklearn.datasets import load_wine\n",
        "from sklearn.model_selection import train_test_split\n",
        "import torch"
      ]
    },
    {
      "cell_type": "code",
      "source": [
        "#preparing dataset\n",
        "wine = load_wine()\n",
        "# x is the carachteristics and y the labels\n",
        "x = wine.data\n",
        "y = wine.target\n",
        "\n",
        "x_train, x_test, y_train, y_test = train_test_split(x, y, test_size=0.2, random_state=42)\n",
        "\n",
        "# Padronizar os dados para média zero e variância unitária, melhora o treinamento\n",
        "#transforming trains and tests munpy arrays to tensors\n",
        "x_train = torch.tensor(x_train, dtype=torch.float32)\n",
        "x_test = torch.tensor(x_test, dtype=torch.float32)\n",
        "y_train = torch.tensor(y_train, dtype=torch.long)\n",
        "y_test = torch.tensor(y_test, dtype=torch.long)\n",
        "\n",
        "mean = x_train.mean(dim=0)\n",
        "std = x_train.std(dim=0)\n",
        "\n",
        "x_train = (x_train - mean) / std\n",
        "x_test = (x_test - mean) / std"
      ],
      "metadata": {
        "id": "cjbIu67Iev-M"
      },
      "execution_count": 2,
      "outputs": []
    },
    {
      "cell_type": "code",
      "source": [
        "#defining model\n",
        "#herda de torch.nn.Module\n",
        "class MLP(torch.nn.Module):\n",
        "  def __init__(self, input_size, hidden_size, output_size):\n",
        "    #chama superclasse\n",
        "    super(MLP, self).__init__()\n",
        "    self.fc1 = torch.nn.Linear(input_size, hidden_size)\n",
        "    self.fc2 = torch.nn.Linear(hidden_size, hidden_size)\n",
        "    self.fc3 = torch.nn.Linear(hidden_size, output_size)\n",
        "    #define o comportamento da rede neural\n",
        "  def forward(self, x):\n",
        "    x = torch.relu(self.fc1(x))\n",
        "    x = torch.relu(self.fc2(x))\n",
        "    x = self.fc3(x)\n",
        "    return x\n",
        "\n"
      ],
      "metadata": {
        "id": "O1M4ZQyT8h6d"
      },
      "execution_count": 3,
      "outputs": []
    },
    {
      "cell_type": "code",
      "source": [
        "print(x_train.size())\n",
        "print(x_test.size())"
      ],
      "metadata": {
        "colab": {
          "base_uri": "https://localhost:8080/"
        },
        "id": "dO3ZMb-eR2Zg",
        "outputId": "1d0936db-c0e8-4746-9602-75607b1a9ce4"
      },
      "execution_count": 4,
      "outputs": [
        {
          "output_type": "stream",
          "name": "stdout",
          "text": [
            "torch.Size([142, 13])\n",
            "torch.Size([36, 13])\n"
          ]
        }
      ]
    },
    {
      "cell_type": "code",
      "source": [
        "model = MLP(input_size=x_train.size()[1], hidden_size=30, output_size=3)\n",
        "\n",
        "\n",
        "#defining loss function\n",
        "criterion = torch.nn.CrossEntropyLoss()\n",
        "#defining optimizer\n",
        "optimizer = torch.optim.Adam(model.parameters(), lr=0.009)\n",
        "\n",
        "epochs = 100\n",
        "\n",
        "for epoch in range(epochs):\n",
        "  model.train()\n",
        "  #always remember this!!\n",
        "  optimizer.zero_grad()\n",
        "\n",
        "  outputs = model(x_train)\n",
        "  loss = criterion(outputs, y_train)\n",
        "\n",
        "  #calculating gradients\n",
        "  loss.backward()\n",
        "  #updating weights\n",
        "  optimizer.step()\n",
        "  if (epoch + 1) % 10 == 0:\n",
        "    print(f'Epoch [{epoch+1}/{epochs}], Loss: {loss.item():.4f}')\n"
      ],
      "metadata": {
        "colab": {
          "base_uri": "https://localhost:8080/"
        },
        "id": "XzVxfRk_MQaP",
        "outputId": "b871e9c9-ac5d-489e-91bb-8e7771701d0e"
      },
      "execution_count": 12,
      "outputs": [
        {
          "output_type": "stream",
          "name": "stdout",
          "text": [
            "Epoch [10/100], Loss: 0.3461\n",
            "Epoch [20/100], Loss: 0.0281\n",
            "Epoch [30/100], Loss: 0.0040\n",
            "Epoch [40/100], Loss: 0.0008\n",
            "Epoch [50/100], Loss: 0.0003\n",
            "Epoch [60/100], Loss: 0.0001\n",
            "Epoch [70/100], Loss: 0.0001\n",
            "Epoch [80/100], Loss: 0.0001\n",
            "Epoch [90/100], Loss: 0.0001\n",
            "Epoch [100/100], Loss: 0.0001\n"
          ]
        }
      ]
    },
    {
      "cell_type": "code",
      "source": [
        "#evaluating model\n",
        "#no need to calculate gradient in evaluation\n",
        "with torch.no_grad():\n",
        "  outputs = model(x_test)\n",
        "  _, predicted = torch.max(outputs.data, 1)\n",
        "  accuracy = (predicted == y_test).sum().item() / len(y_test)\n",
        "  print(f'Accuracy: {accuracy * 100:.2f}%')\n"
      ],
      "metadata": {
        "colab": {
          "base_uri": "https://localhost:8080/"
        },
        "id": "EcTYw92HXX_g",
        "outputId": "e9e85281-a327-4480-8bee-ad33b7706398"
      },
      "execution_count": 13,
      "outputs": [
        {
          "output_type": "stream",
          "name": "stdout",
          "text": [
            "Accuracy: 100.00%\n"
          ]
        }
      ]
    },
    {
      "cell_type": "markdown",
      "source": [],
      "metadata": {
        "id": "NDwjbPJuPAid"
      }
    }
  ]
}