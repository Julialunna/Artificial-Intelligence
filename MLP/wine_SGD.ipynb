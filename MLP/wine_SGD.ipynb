{
  "nbformat": 4,
  "nbformat_minor": 0,
  "metadata": {
    "colab": {
      "provenance": [],
      "authorship_tag": "ABX9TyOl+/YymYQo1ZI8+8qBg7P5",
      "include_colab_link": true
    },
    "kernelspec": {
      "name": "python3",
      "display_name": "Python 3"
    },
    "language_info": {
      "name": "python"
    }
  },
  "cells": [
    {
      "cell_type": "markdown",
      "metadata": {
        "id": "view-in-github",
        "colab_type": "text"
      },
      "source": [
        "<a href=\"https://colab.research.google.com/github/Julialunna/Artificial-Intelligence/blob/main/MLP/wine_SGD.ipynb\" target=\"_parent\"><img src=\"https://colab.research.google.com/assets/colab-badge.svg\" alt=\"Open In Colab\"/></a>"
      ]
    },
    {
      "cell_type": "code",
      "execution_count": 14,
      "metadata": {
        "id": "4rwEd8uienPX"
      },
      "outputs": [],
      "source": [
        "from sklearn.datasets import load_wine\n",
        "from sklearn.model_selection import train_test_split\n",
        "from sklearn.preprocessing import StandardScaler\n",
        "import torch\n"
      ]
    },
    {
      "cell_type": "code",
      "source": [
        "#preparing dataset\n",
        "wine = load_wine()\n",
        "# x is the carachteristics and y the labels\n",
        "x = wine.data\n",
        "y = wine.target\n",
        "\n",
        "x_train, x_test, y_train, y_test = train_test_split(x, y, test_size=0.2, random_state=42)\n",
        "\n",
        "# Padronizar os dados para média zero e variância unitária, melhora o treinamento\n",
        "#transforming trains and tests munpy arrays to tensors\n",
        "scaler = StandardScaler()\n",
        "x_train = scaler.fit_transform(x_train)  # Padroniza os dados de treino\n",
        "x_test = scaler.transform(x_test)  # Padroniza os dados de teste (usando os mesmos parâmetros do treino)\n",
        "\n",
        "# Converter para tensores do PyTorch\n",
        "x_train= torch.tensor(x_train, dtype=torch.float32)\n",
        "x_test = torch.tensor(x_test, dtype=torch.float32)\n",
        "y_train = torch.tensor(y_train, dtype=torch.long)\n",
        "y_test = torch.tensor(y_test, dtype=torch.long)"
      ],
      "metadata": {
        "id": "cjbIu67Iev-M"
      },
      "execution_count": 19,
      "outputs": []
    },
    {
      "cell_type": "code",
      "source": [
        "#defining model\n",
        "#herda de torch.nn.Module\n",
        "class MLP(torch.nn.Module):\n",
        "  def __init__(self, input_size, hidden_size, output_size):\n",
        "    #chama superclasse\n",
        "    super(MLP, self).__init__()\n",
        "    self.fc1 = torch.nn.Linear(input_size, hidden_size)\n",
        "    self.fc2 = torch.nn.Linear(hidden_size, hidden_size)\n",
        "    self.fc3 = torch.nn.Linear(hidden_size, output_size)\n",
        "    #define o comportamento da rede neural\n",
        "  def forward(self, x):\n",
        "    x = torch.relu(self.fc1(x))\n",
        "    x = torch.relu(self.fc2(x))\n",
        "    x = self.fc3(x)\n",
        "    return x\n",
        "\n"
      ],
      "metadata": {
        "id": "O1M4ZQyT8h6d"
      },
      "execution_count": 20,
      "outputs": []
    },
    {
      "cell_type": "code",
      "source": [
        "print(x_train.size())\n",
        "print(x_test.size())"
      ],
      "metadata": {
        "colab": {
          "base_uri": "https://localhost:8080/"
        },
        "id": "dO3ZMb-eR2Zg",
        "outputId": "1d0936db-c0e8-4746-9602-75607b1a9ce4"
      },
      "execution_count": 4,
      "outputs": [
        {
          "output_type": "stream",
          "name": "stdout",
          "text": [
            "torch.Size([142, 13])\n",
            "torch.Size([36, 13])\n"
          ]
        }
      ]
    },
    {
      "cell_type": "code",
      "source": [
        "model = MLP(input_size=x_train.size()[1], hidden_size=30, output_size=3)\n",
        "\n",
        "\n",
        "#defining loss function\n",
        "criterion = torch.nn.CrossEntropyLoss()\n",
        "#defining optimizer\n",
        "optimizer = torch.optim.Adam(model.parameters(), lr=0.009)\n",
        "\n",
        "epochs = 100\n",
        "\n",
        "for epoch in range(epochs):\n",
        "  model.train()\n",
        "  #always remember this!!\n",
        "  optimizer.zero_grad()\n",
        "\n",
        "  outputs = model(x_train)\n",
        "  loss = criterion(outputs, y_train)\n",
        "\n",
        "  #calculating gradients\n",
        "  loss.backward()\n",
        "  #updating weights\n",
        "  optimizer.step()\n",
        "  if (epoch + 1) % 10 == 0:\n",
        "    print(f'Epoch [{epoch+1}/{epochs}], Loss: {loss.item():.4f}')\n"
      ],
      "metadata": {
        "colab": {
          "base_uri": "https://localhost:8080/"
        },
        "id": "XzVxfRk_MQaP",
        "outputId": "b35865c3-ed93-4632-c2b8-7d5a446eb336"
      },
      "execution_count": 21,
      "outputs": [
        {
          "output_type": "stream",
          "name": "stdout",
          "text": [
            "Epoch [10/100], Loss: 0.2585\n",
            "Epoch [20/100], Loss: 0.0197\n",
            "Epoch [30/100], Loss: 0.0018\n",
            "Epoch [40/100], Loss: 0.0004\n",
            "Epoch [50/100], Loss: 0.0002\n",
            "Epoch [60/100], Loss: 0.0001\n",
            "Epoch [70/100], Loss: 0.0001\n",
            "Epoch [80/100], Loss: 0.0001\n",
            "Epoch [90/100], Loss: 0.0001\n",
            "Epoch [100/100], Loss: 0.0001\n"
          ]
        }
      ]
    },
    {
      "cell_type": "code",
      "source": [
        "#evaluating model\n",
        "#no need to calculate gradient in evaluation\n",
        "with torch.no_grad():\n",
        "  outputs = model(x_test)\n",
        "  _, predicted = torch.max(outputs.data, 1)\n",
        "  accuracy = (predicted == y_test).sum().item() / len(y_test)\n",
        "  print(f'Accuracy: {accuracy * 100:.2f}%')\n"
      ],
      "metadata": {
        "colab": {
          "base_uri": "https://localhost:8080/"
        },
        "id": "EcTYw92HXX_g",
        "outputId": "d5317ae2-ca0b-4618-dc6d-346c3f008464"
      },
      "execution_count": 22,
      "outputs": [
        {
          "output_type": "stream",
          "name": "stdout",
          "text": [
            "Accuracy: 100.00%\n"
          ]
        }
      ]
    },
    {
      "cell_type": "markdown",
      "source": [],
      "metadata": {
        "id": "NDwjbPJuPAid"
      }
    }
  ]
}